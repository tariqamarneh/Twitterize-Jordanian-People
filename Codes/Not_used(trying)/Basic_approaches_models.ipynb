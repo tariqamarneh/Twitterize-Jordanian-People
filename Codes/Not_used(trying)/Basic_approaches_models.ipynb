{
 "cells": [
  {
   "cell_type": "code",
   "execution_count": 8,
   "id": "23251308",
   "metadata": {},
   "outputs": [],
   "source": [
    "import pandas as pd\n",
    "from sklearn.preprocessing import MinMaxScaler\n",
    "from sklearn.feature_extraction.text import CountVectorizer\n",
    "from sklearn.model_selection import train_test_split\n",
    "from sklearn.metrics import classification_report\n",
    "from sklearn.model_selection import GridSearchCV\n",
    "import pickle"
   ]
  },
  {
   "cell_type": "code",
   "execution_count": 2,
   "id": "90dbc706",
   "metadata": {},
   "outputs": [],
   "source": [
    "df=pd.read_csv(r\"C:\\Users\\tareq\\Desktop\\p2\\Data\\All_Users_Labeled.csv\")"
   ]
  },
  {
   "cell_type": "code",
   "execution_count": 5,
   "id": "e6bbc0d3",
   "metadata": {},
   "outputs": [],
   "source": [
    "df.drop(['Unnamed: 0','Username'],inplace= True , axis = 1)"
   ]
  },
  {
   "cell_type": "code",
   "execution_count": 9,
   "id": "5b84b4b2",
   "metadata": {},
   "outputs": [],
   "source": [
    "X_num = df.iloc[:, 1:5].values\n",
    "ss=MinMaxScaler()\n",
    "X_num=ss.fit_transform(X=X_num)\n",
    "vectorizer = CountVectorizer()\n",
    "X_text = vectorizer.fit_transform(df['Full_Text'])\n",
    "df1=pd.DataFrame(X_text.toarray(),columns=vectorizer.get_feature_names_out())\n",
    "df1['total_words']= [x[0] for x in X_num]\n",
    "df1[ \"total_char\"]= [x[1] for x in X_num]\n",
    "df1[\"avg_chr_per_word\"]= [x[2] for x in X_num]\n",
    "df1[\"total_emojis\"]= [x[3] for x in X_num]"
   ]
  },
  {
   "cell_type": "code",
   "execution_count": 15,
   "id": "c14de4bf",
   "metadata": {},
   "outputs": [],
   "source": [
    "y = df['c'].values"
   ]
  },
  {
   "cell_type": "code",
   "execution_count": 16,
   "id": "a92a414e",
   "metadata": {},
   "outputs": [],
   "source": [
    "X_train, X_test, y_train, y_test= train_test_split(df1, y, test_size=0.2, random_state=42)"
   ]
  },
  {
   "cell_type": "code",
   "execution_count": null,
   "id": "ffaa3b55",
   "metadata": {},
   "outputs": [],
   "source": [
    "#LogisticRegression"
   ]
  },
  {
   "cell_type": "code",
   "execution_count": null,
   "id": "5db84368",
   "metadata": {},
   "outputs": [],
   "source": [
    "from sklearn.linear_model import LogisticRegression\n",
    "etc_parameters = {'C': [0.1,0.5,1,10,100], 'class_weight': ['balanced',None],'max_iter':[100, 300, 500,1000],'random_state':[42]}\n",
    "etc = LogisticRegression()\n",
    "etc_grid = GridSearchCV(etc, etc_parameters, cv=5)\n",
    "etc_grid.fit(X_train, y_train)\n",
    "m1=etc_grid.best_estimator_\n",
    "m1.fit(X_train,y_train)"
   ]
  },
  {
   "cell_type": "code",
   "execution_count": 19,
   "id": "34d5990d",
   "metadata": {},
   "outputs": [
    {
     "name": "stdout",
     "output_type": "stream",
     "text": [
      "              precision    recall  f1-score   support\n",
      "\n",
      "           0       0.88      0.85      0.87       281\n",
      "           1       0.29      0.35      0.31        49\n",
      "\n",
      "    accuracy                           0.78       330\n",
      "   macro avg       0.59      0.60      0.59       330\n",
      "weighted avg       0.79      0.78      0.78       330\n",
      "\n"
     ]
    }
   ],
   "source": [
    "y_pred=m1.predict(X_test)\n",
    "print(classification_report(y_test,y_pred))"
   ]
  },
  {
   "cell_type": "code",
   "execution_count": null,
   "id": "fed5914c",
   "metadata": {},
   "outputs": [],
   "source": [
    "#SVC"
   ]
  },
  {
   "cell_type": "code",
   "execution_count": null,
   "id": "f7fb9ae1",
   "metadata": {},
   "outputs": [],
   "source": [
    "from sklearn.svm import SVC\n",
    "etc_parameters = {'C': [0.1,0.5,1,10,100], 'class_weight': ['balanced',None],'max_iter':[100, 300, 500,1000],\"gamma\":['scale',0.1,1,10],'random_state':[42]}\n",
    "etc = SVC()\n",
    "etc_grid = GridSearchCV(etc, etc_parameters, cv=5)\n",
    "etc_grid.fit(X_train, y_train)\n",
    "m2=etc_grid.best_estimator_\n",
    "m2.fit(X_train,y_train)"
   ]
  },
  {
   "cell_type": "code",
   "execution_count": 22,
   "id": "6a1d8b0c",
   "metadata": {},
   "outputs": [
    {
     "name": "stdout",
     "output_type": "stream",
     "text": [
      "              precision    recall  f1-score   support\n",
      "\n",
      "           0       0.82      1.00      0.90       271\n",
      "           1       0.00      0.00      0.00        59\n",
      "\n",
      "    accuracy                           0.82       330\n",
      "   macro avg       0.41      0.50      0.45       330\n",
      "weighted avg       0.67      0.82      0.74       330\n",
      "\n"
     ]
    },
    {
     "name": "stderr",
     "output_type": "stream",
     "text": [
      "C:\\Users\\tareq\\anaconda3\\lib\\site-packages\\sklearn\\metrics\\_classification.py:1318: UndefinedMetricWarning: Precision and F-score are ill-defined and being set to 0.0 in labels with no predicted samples. Use `zero_division` parameter to control this behavior.\n",
      "  _warn_prf(average, modifier, msg_start, len(result))\n",
      "C:\\Users\\tareq\\anaconda3\\lib\\site-packages\\sklearn\\metrics\\_classification.py:1318: UndefinedMetricWarning: Precision and F-score are ill-defined and being set to 0.0 in labels with no predicted samples. Use `zero_division` parameter to control this behavior.\n",
      "  _warn_prf(average, modifier, msg_start, len(result))\n",
      "C:\\Users\\tareq\\anaconda3\\lib\\site-packages\\sklearn\\metrics\\_classification.py:1318: UndefinedMetricWarning: Precision and F-score are ill-defined and being set to 0.0 in labels with no predicted samples. Use `zero_division` parameter to control this behavior.\n",
      "  _warn_prf(average, modifier, msg_start, len(result))\n"
     ]
    }
   ],
   "source": [
    "y_pred=m2.predict(X_test)\n",
    "print(classification_report(y_test,y_pred))"
   ]
  },
  {
   "cell_type": "code",
   "execution_count": null,
   "id": "bb5c4dc5",
   "metadata": {},
   "outputs": [],
   "source": [
    "#NB"
   ]
  },
  {
   "cell_type": "code",
   "execution_count": 23,
   "id": "0b4abf5b",
   "metadata": {},
   "outputs": [
    {
     "data": {
      "text/plain": [
       "GaussianNB()"
      ]
     },
     "execution_count": 23,
     "metadata": {},
     "output_type": "execute_result"
    }
   ],
   "source": [
    "from sklearn.naive_bayes import GaussianNB\n",
    "m3=GaussianNB()\n",
    "m3.fit(X_train,y_train)"
   ]
  },
  {
   "cell_type": "code",
   "execution_count": 24,
   "id": "0843a372",
   "metadata": {},
   "outputs": [
    {
     "name": "stdout",
     "output_type": "stream",
     "text": [
      "              precision    recall  f1-score   support\n",
      "\n",
      "           0       0.84      0.85      0.84       271\n",
      "           1       0.25      0.24      0.25        59\n",
      "\n",
      "    accuracy                           0.74       330\n",
      "   macro avg       0.55      0.54      0.54       330\n",
      "weighted avg       0.73      0.74      0.74       330\n",
      "\n"
     ]
    }
   ],
   "source": [
    "y_pred=m3.predict(X_test)\n",
    "print(classification_report(y_test,y_pred))"
   ]
  },
  {
   "cell_type": "code",
   "execution_count": null,
   "id": "373fa795",
   "metadata": {},
   "outputs": [],
   "source": [
    "# Decision Tree"
   ]
  },
  {
   "cell_type": "code",
   "execution_count": 25,
   "id": "368bd643",
   "metadata": {},
   "outputs": [
    {
     "name": "stdout",
     "output_type": "stream",
     "text": [
      "              precision    recall  f1-score   support\n",
      "\n",
      "           0       0.86      0.83      0.84       271\n",
      "           1       0.32      0.36      0.34        59\n",
      "\n",
      "    accuracy                           0.75       330\n",
      "   macro avg       0.59      0.59      0.59       330\n",
      "weighted avg       0.76      0.75      0.75       330\n",
      "\n"
     ]
    }
   ],
   "source": [
    "from sklearn.tree import DecisionTreeClassifier\n",
    "m4=DecisionTreeClassifier(random_state=42)\n",
    "m4.fit(X_train,y_train)\n",
    "y_pred=m4.predict(X_test)\n",
    "print(classification_report(y_test,y_pred))"
   ]
  }
 ],
 "metadata": {
  "kernelspec": {
   "display_name": "Python 3 (ipykernel)",
   "language": "python",
   "name": "python3"
  },
  "language_info": {
   "codemirror_mode": {
    "name": "ipython",
    "version": 3
   },
   "file_extension": ".py",
   "mimetype": "text/x-python",
   "name": "python",
   "nbconvert_exporter": "python",
   "pygments_lexer": "ipython3",
   "version": "3.9.13"
  }
 },
 "nbformat": 4,
 "nbformat_minor": 5
}
