{
 "cells": [
  {
   "cell_type": "code",
   "execution_count": 1,
   "metadata": {
    "id": "qRMx7E9l8MJU"
   },
   "outputs": [],
   "source": [
    "import pandas as pd\n",
    "import re"
   ]
  },
  {
   "cell_type": "code",
   "execution_count": 2,
   "metadata": {
    "id": "vT1a_RaP8NpO"
   },
   "outputs": [],
   "source": [
    "df0=pd.read_csv('0.csv')\n",
    "df1=pd.read_csv('1.csv')\n",
    "df2=pd.read_csv('2.csv')\n",
    "df3=pd.read_csv('3.csv')\n",
    "df4=pd.read_csv('4.csv')\n",
    "df5=pd.read_csv('5.csv')"
   ]
  },
  {
   "cell_type": "code",
   "execution_count": 9,
   "metadata": {
    "id": "UZj7QClT82W6"
   },
   "outputs": [],
   "source": [
    "df=pd.concat([df0,df1,df2,df3,df4,df5],ignore_index=True)"
   ]
  },
  {
   "cell_type": "code",
   "execution_count": 10,
   "metadata": {
    "id": "4WyqBd3_9GMI"
   },
   "outputs": [],
   "source": [
    "df=df.drop('Unnamed: 0',axis=1)"
   ]
  },
  {
   "cell_type": "code",
   "execution_count": 11,
   "metadata": {
    "colab": {
     "base_uri": "https://localhost:8080/",
     "height": 467
    },
    "id": "uRY60n6d7VP4",
    "outputId": "1280235b-1028-41db-92dc-fdde9e6b98b4"
   },
   "outputs": [
    {
     "data": {
      "text/html": [
       "\n",
       "  <div id=\"df-d6a55975-df2b-4b69-b9b0-608cee6ee6f2\">\n",
       "    <div class=\"colab-df-container\">\n",
       "      <div>\n",
       "<style scoped>\n",
       "    .dataframe tbody tr th:only-of-type {\n",
       "        vertical-align: middle;\n",
       "    }\n",
       "\n",
       "    .dataframe tbody tr th {\n",
       "        vertical-align: top;\n",
       "    }\n",
       "\n",
       "    .dataframe thead th {\n",
       "        text-align: right;\n",
       "    }\n",
       "</style>\n",
       "<table border=\"1\" class=\"dataframe\">\n",
       "  <thead>\n",
       "    <tr style=\"text-align: right;\">\n",
       "      <th></th>\n",
       "      <th>Username</th>\n",
       "      <th>Tweet</th>\n",
       "      <th>Language</th>\n",
       "      <th>Date</th>\n",
       "    </tr>\n",
       "  </thead>\n",
       "  <tbody>\n",
       "    <tr>\n",
       "      <th>0</th>\n",
       "      <td>KeneAkers</td>\n",
       "      <td>What they are saying about Black Lives Matter ...</td>\n",
       "      <td>en</td>\n",
       "      <td>Sat Feb 25 04:44:08 +0000 2023</td>\n",
       "    </tr>\n",
       "    <tr>\n",
       "      <th>1</th>\n",
       "      <td>KeneAkers</td>\n",
       "      <td>As a prior Antiterrorism instructor in the mil...</td>\n",
       "      <td>en</td>\n",
       "      <td>Sat Feb 25 03:05:28 +0000 2023</td>\n",
       "    </tr>\n",
       "    <tr>\n",
       "      <th>2</th>\n",
       "      <td>KeneAkers</td>\n",
       "      <td>History repeats itself in eighty-year blocks c...</td>\n",
       "      <td>en</td>\n",
       "      <td>Sat Feb 25 02:08:30 +0000 2023</td>\n",
       "    </tr>\n",
       "    <tr>\n",
       "      <th>3</th>\n",
       "      <td>KeneAkers</td>\n",
       "      <td>RT @etanthomas36: America wants you to believe...</td>\n",
       "      <td>en</td>\n",
       "      <td>Sat Feb 25 01:03:25 +0000 2023</td>\n",
       "    </tr>\n",
       "    <tr>\n",
       "      <th>4</th>\n",
       "      <td>KeneAkers</td>\n",
       "      <td>As long as we have Capitalsm Racism will exist...</td>\n",
       "      <td>en</td>\n",
       "      <td>Sat Feb 25 00:58:08 +0000 2023</td>\n",
       "    </tr>\n",
       "    <tr>\n",
       "      <th>...</th>\n",
       "      <td>...</td>\n",
       "      <td>...</td>\n",
       "      <td>...</td>\n",
       "      <td>...</td>\n",
       "    </tr>\n",
       "    <tr>\n",
       "      <th>180259</th>\n",
       "      <td>Zmachary4</td>\n",
       "      <td>RT @MarvHarrisonJr: Year 2‼️ Beyond Blessed🙏🏾 ...</td>\n",
       "      <td>en</td>\n",
       "      <td>Tue Jan 24 02:16:36 +0000 2023</td>\n",
       "    </tr>\n",
       "    <tr>\n",
       "      <th>180260</th>\n",
       "      <td>Zmachary4</td>\n",
       "      <td>Looks like that hammy is just fine https://t.c...</td>\n",
       "      <td>en</td>\n",
       "      <td>Mon Jan 23 14:15:00 +0000 2023</td>\n",
       "    </tr>\n",
       "    <tr>\n",
       "      <th>180261</th>\n",
       "      <td>Zmachary4</td>\n",
       "      <td>RT @chuckkrieger: WHO DEYYYYYYY THINK GON BEAT...</td>\n",
       "      <td>en</td>\n",
       "      <td>Sun Jan 22 23:22:57 +0000 2023</td>\n",
       "    </tr>\n",
       "    <tr>\n",
       "      <th>180262</th>\n",
       "      <td>Zmachary4</td>\n",
       "      <td>Jessie Bates is gonna be so sick in Cleveland ...</td>\n",
       "      <td>en</td>\n",
       "      <td>Sun Jan 22 22:57:28 +0000 2023</td>\n",
       "    </tr>\n",
       "    <tr>\n",
       "      <th>180263</th>\n",
       "      <td>Zmachary4</td>\n",
       "      <td>No jinx here this game is OVER https://t.co/jt...</td>\n",
       "      <td>en</td>\n",
       "      <td>Sun Jan 22 22:45:41 +0000 2023</td>\n",
       "    </tr>\n",
       "  </tbody>\n",
       "</table>\n",
       "<p>180264 rows × 4 columns</p>\n",
       "</div>\n",
       "      <button class=\"colab-df-convert\" onclick=\"convertToInteractive('df-d6a55975-df2b-4b69-b9b0-608cee6ee6f2')\"\n",
       "              title=\"Convert this dataframe to an interactive table.\"\n",
       "              style=\"display:none;\">\n",
       "        \n",
       "  <svg xmlns=\"http://www.w3.org/2000/svg\" height=\"24px\"viewBox=\"0 0 24 24\"\n",
       "       width=\"24px\">\n",
       "    <path d=\"M0 0h24v24H0V0z\" fill=\"none\"/>\n",
       "    <path d=\"M18.56 5.44l.94 2.06.94-2.06 2.06-.94-2.06-.94-.94-2.06-.94 2.06-2.06.94zm-11 1L8.5 8.5l.94-2.06 2.06-.94-2.06-.94L8.5 2.5l-.94 2.06-2.06.94zm10 10l.94 2.06.94-2.06 2.06-.94-2.06-.94-.94-2.06-.94 2.06-2.06.94z\"/><path d=\"M17.41 7.96l-1.37-1.37c-.4-.4-.92-.59-1.43-.59-.52 0-1.04.2-1.43.59L10.3 9.45l-7.72 7.72c-.78.78-.78 2.05 0 2.83L4 21.41c.39.39.9.59 1.41.59.51 0 1.02-.2 1.41-.59l7.78-7.78 2.81-2.81c.8-.78.8-2.07 0-2.86zM5.41 20L4 18.59l7.72-7.72 1.47 1.35L5.41 20z\"/>\n",
       "  </svg>\n",
       "      </button>\n",
       "      \n",
       "  <style>\n",
       "    .colab-df-container {\n",
       "      display:flex;\n",
       "      flex-wrap:wrap;\n",
       "      gap: 12px;\n",
       "    }\n",
       "\n",
       "    .colab-df-convert {\n",
       "      background-color: #E8F0FE;\n",
       "      border: none;\n",
       "      border-radius: 50%;\n",
       "      cursor: pointer;\n",
       "      display: none;\n",
       "      fill: #1967D2;\n",
       "      height: 32px;\n",
       "      padding: 0 0 0 0;\n",
       "      width: 32px;\n",
       "    }\n",
       "\n",
       "    .colab-df-convert:hover {\n",
       "      background-color: #E2EBFA;\n",
       "      box-shadow: 0px 1px 2px rgba(60, 64, 67, 0.3), 0px 1px 3px 1px rgba(60, 64, 67, 0.15);\n",
       "      fill: #174EA6;\n",
       "    }\n",
       "\n",
       "    [theme=dark] .colab-df-convert {\n",
       "      background-color: #3B4455;\n",
       "      fill: #D2E3FC;\n",
       "    }\n",
       "\n",
       "    [theme=dark] .colab-df-convert:hover {\n",
       "      background-color: #434B5C;\n",
       "      box-shadow: 0px 1px 3px 1px rgba(0, 0, 0, 0.15);\n",
       "      filter: drop-shadow(0px 1px 2px rgba(0, 0, 0, 0.3));\n",
       "      fill: #FFFFFF;\n",
       "    }\n",
       "  </style>\n",
       "\n",
       "      <script>\n",
       "        const buttonEl =\n",
       "          document.querySelector('#df-d6a55975-df2b-4b69-b9b0-608cee6ee6f2 button.colab-df-convert');\n",
       "        buttonEl.style.display =\n",
       "          google.colab.kernel.accessAllowed ? 'block' : 'none';\n",
       "\n",
       "        async function convertToInteractive(key) {\n",
       "          const element = document.querySelector('#df-d6a55975-df2b-4b69-b9b0-608cee6ee6f2');\n",
       "          const dataTable =\n",
       "            await google.colab.kernel.invokeFunction('convertToInteractive',\n",
       "                                                     [key], {});\n",
       "          if (!dataTable) return;\n",
       "\n",
       "          const docLinkHtml = 'Like what you see? Visit the ' +\n",
       "            '<a target=\"_blank\" href=https://colab.research.google.com/notebooks/data_table.ipynb>data table notebook</a>'\n",
       "            + ' to learn more about interactive tables.';\n",
       "          element.innerHTML = '';\n",
       "          dataTable['output_type'] = 'display_data';\n",
       "          await google.colab.output.renderOutput(dataTable, element);\n",
       "          const docLink = document.createElement('div');\n",
       "          docLink.innerHTML = docLinkHtml;\n",
       "          element.appendChild(docLink);\n",
       "        }\n",
       "      </script>\n",
       "    </div>\n",
       "  </div>\n",
       "  "
      ],
      "text/plain": [
       "         Username                                              Tweet Language  \\\n",
       "0       KeneAkers  What they are saying about Black Lives Matter ...       en   \n",
       "1       KeneAkers  As a prior Antiterrorism instructor in the mil...       en   \n",
       "2       KeneAkers  History repeats itself in eighty-year blocks c...       en   \n",
       "3       KeneAkers  RT @etanthomas36: America wants you to believe...       en   \n",
       "4       KeneAkers  As long as we have Capitalsm Racism will exist...       en   \n",
       "...           ...                                                ...      ...   \n",
       "180259  Zmachary4  RT @MarvHarrisonJr: Year 2‼️ Beyond Blessed🙏🏾 ...       en   \n",
       "180260  Zmachary4  Looks like that hammy is just fine https://t.c...       en   \n",
       "180261  Zmachary4  RT @chuckkrieger: WHO DEYYYYYYY THINK GON BEAT...       en   \n",
       "180262  Zmachary4  Jessie Bates is gonna be so sick in Cleveland ...       en   \n",
       "180263  Zmachary4  No jinx here this game is OVER https://t.co/jt...       en   \n",
       "\n",
       "                                  Date  \n",
       "0       Sat Feb 25 04:44:08 +0000 2023  \n",
       "1       Sat Feb 25 03:05:28 +0000 2023  \n",
       "2       Sat Feb 25 02:08:30 +0000 2023  \n",
       "3       Sat Feb 25 01:03:25 +0000 2023  \n",
       "4       Sat Feb 25 00:58:08 +0000 2023  \n",
       "...                                ...  \n",
       "180259  Tue Jan 24 02:16:36 +0000 2023  \n",
       "180260  Mon Jan 23 14:15:00 +0000 2023  \n",
       "180261  Sun Jan 22 23:22:57 +0000 2023  \n",
       "180262  Sun Jan 22 22:57:28 +0000 2023  \n",
       "180263  Sun Jan 22 22:45:41 +0000 2023  \n",
       "\n",
       "[180264 rows x 4 columns]"
      ]
     },
     "execution_count": 11,
     "metadata": {},
     "output_type": "execute_result"
    }
   ],
   "source": [
    "df"
   ]
  },
  {
   "cell_type": "code",
   "execution_count": 16,
   "metadata": {
    "id": "xPbSTIWe9GsV"
   },
   "outputs": [],
   "source": [
    "df.drop_duplicates(inplace=True)"
   ]
  },
  {
   "cell_type": "code",
   "execution_count": 17,
   "metadata": {
    "colab": {
     "base_uri": "https://localhost:8080/"
    },
    "id": "YYtMJPbK9znq",
    "outputId": "1a3e65d9-4655-4b8f-c1bf-67a2ee85fd82"
   },
   "outputs": [
    {
     "data": {
      "text/plain": [
       "1371"
      ]
     },
     "execution_count": 17,
     "metadata": {},
     "output_type": "execute_result"
    }
   ],
   "source": [
    "df['Username'].nunique()"
   ]
  },
  {
   "cell_type": "code",
   "execution_count": 18,
   "metadata": {
    "id": "LvKVSpGW-hpG"
   },
   "outputs": [],
   "source": [
    "dfAR=df[df['Language']=='ar']\n",
    "dfEN=df[df['Language']=='en']"
   ]
  },
  {
   "cell_type": "code",
   "execution_count": 19,
   "metadata": {
    "id": "zIssQ1md_c6-"
   },
   "outputs": [],
   "source": [
    "dfAREN=pd.concat([dfAR,dfEN],ignore_index=True)"
   ]
  },
  {
   "cell_type": "code",
   "execution_count": 22,
   "metadata": {
    "id": "f5VA4VwyAlpv"
   },
   "outputs": [],
   "source": [
    "dfAREN.drop('Date',axis=1,inplace=True)"
   ]
  },
  {
   "cell_type": "code",
   "execution_count": 23,
   "metadata": {
    "id": "5J5vuvXXAxKI"
   },
   "outputs": [],
   "source": [
    "GBdf=dfAREN.groupby('Username')['Tweet'].apply(list).reset_index()"
   ]
  },
  {
   "cell_type": "code",
   "execution_count": 36,
   "metadata": {
    "id": "_m--88ttCEju"
   },
   "outputs": [],
   "source": [
    "emoji_pattern = re.compile(\"[\"\n",
    "        u\"\\U0001F600-\\U0001F64F\"  # emoticons\n",
    "        u\"\\U0001F300-\\U0001F5FF\"  # symbols & pictographs\n",
    "        u\"\\U0001F680-\\U0001F6FF\"  # transport & map symbols\n",
    "        u\"\\U0001F1E0-\\U0001F1FF\"  # flags (iOS)\n",
    "        u\"\\U00002500-\\U00002BEF\"  # chinese char\n",
    "        u\"\\U00002702-\\U000027B0\"\n",
    "        u\"\\U00002702-\\U000027B0\"\n",
    "        u\"\\U000024C2-\\U0001F251\"\n",
    "        u\"\\U0001f926-\\U0001f937\"\n",
    "        u\"\\U00010000-\\U0010ffff\"\n",
    "        u\"\\u2640-\\u2642\" \n",
    "        u\"\\u2600-\\u2B55\"\n",
    "        u\"\\u200d\"\n",
    "        u\"\\u23cf\"\n",
    "        u\"\\u23e9\"\n",
    "        u\"\\u231a\"\n",
    "        u\"\\ufe0f\"  # dingbats\n",
    "        u\"\\u3030\"\n",
    "                      \"]+\", re.UNICODE)\n",
    "\n",
    "for user,ind in zip(GBdf['Username'],range(len(GBdf['Username']))):\n",
    "    for i in range(len(GBdf[GBdf['Username']==user]['Tweet'][ind])):\n",
    "        s=GBdf[GBdf['Username']==user]['Tweet'][ind][i]\n",
    "        if s[0]=='@' or s.startswith('https://'):\n",
    "            continue\n",
    "        s1 = re.sub('http://\\S+|https://\\S+', '', s)\n",
    "        s1 = re.sub('RT @\\S+ ','',s1)\n",
    "        s1 = emoji_pattern.sub(r'', s1)\n",
    "        s1 = re.sub('\\s+',' ',s1)\n",
    "        s1 = re.sub(r'\\.+', \".\",s1)\n",
    "        s1 = re.sub('\\n','.',s1)\n",
    "        s1 = re.sub('@\\w+','',s1)\n",
    "        GBdf[GBdf['Username']==user]['Tweet'][ind][i]=s1"
   ]
  },
  {
   "cell_type": "code",
   "execution_count": null,
   "metadata": {},
   "outputs": [],
   "source": [
    "GBdf.to_csv('cleaned1.csv')"
   ]
  }
 ],
 "metadata": {
  "colab": {
   "provenance": []
  },
  "kernelspec": {
   "display_name": "Python 3 (ipykernel)",
   "language": "python",
   "name": "python3"
  },
  "language_info": {
   "codemirror_mode": {
    "name": "ipython",
    "version": 3
   },
   "file_extension": ".py",
   "mimetype": "text/x-python",
   "name": "python",
   "nbconvert_exporter": "python",
   "pygments_lexer": "ipython3",
   "version": "3.9.13"
  }
 },
 "nbformat": 4,
 "nbformat_minor": 1
}
