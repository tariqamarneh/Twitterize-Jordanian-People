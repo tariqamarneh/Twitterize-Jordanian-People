{
 "cells": [
  {
   "cell_type": "code",
   "execution_count": 1,
   "id": "d65c6a8f",
   "metadata": {},
   "outputs": [],
   "source": [
    "import pandas as pd\n",
    "import tweepy\n",
    "import string\n",
    "from mtranslate import translate\n",
    "import re"
   ]
  },
  {
   "cell_type": "code",
   "execution_count": 2,
   "id": "81fd6a81",
   "metadata": {},
   "outputs": [],
   "source": [
    "users=pd.read_csv(r\"C:\\Users\\tareq\\Desktop\\p2\\Data\\unique_usernames.csv\")"
   ]
  },
  {
   "cell_type": "code",
   "execution_count": 3,
   "id": "61de0e89",
   "metadata": {},
   "outputs": [],
   "source": [
    "consumer_key = 'Noe1Th6c3f3dd376arHvxk3oc'\n",
    "consumer_secret = 'vKJ6eO6USUcRGojCy3fulwvPFJ5tPvBPVJxVp4p5JF3IR9swpg'\n",
    "auth = tweepy.OAuthHandler(consumer_key, consumer_secret)"
   ]
  },
  {
   "cell_type": "code",
   "execution_count": 4,
   "id": "b7e7b16c",
   "metadata": {},
   "outputs": [],
   "source": [
    "api = tweepy.API(auth)"
   ]
  },
  {
   "cell_type": "code",
   "execution_count": null,
   "id": "7705dbd9",
   "metadata": {},
   "outputs": [],
   "source": [
    "data=[]\n",
    "for username in users['username']:\n",
    "    try:\n",
    "        all_tweets = [tweet._json for tweet in tweepy.Cursor(api.user_timeline, screen_name=username, tweet_mode='extended',exclude_replies=True,include_rts=True).items(200)]\n",
    "        data.append([username,all_tweets])\n",
    "    except Exception as e:\n",
    "        print(f'error:{e},username:{username}')"
   ]
  },
  {
   "cell_type": "code",
   "execution_count": 145,
   "id": "519c74b7",
   "metadata": {},
   "outputs": [],
   "source": [
    "import json  \n",
    "save_file = open(\"tweets_status.json\", \"w\")  \n",
    "json.dump(data, save_file, indent = 6)  \n",
    "save_file.close()  "
   ]
  }
 ],
 "metadata": {
  "kernelspec": {
   "display_name": "Python 3 (ipykernel)",
   "language": "python",
   "name": "python3"
  },
  "language_info": {
   "codemirror_mode": {
    "name": "ipython",
    "version": 3
   },
   "file_extension": ".py",
   "mimetype": "text/x-python",
   "name": "python",
   "nbconvert_exporter": "python",
   "pygments_lexer": "ipython3",
   "version": "3.9.13"
  }
 },
 "nbformat": 4,
 "nbformat_minor": 5
}
