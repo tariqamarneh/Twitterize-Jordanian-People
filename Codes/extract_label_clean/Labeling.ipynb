{
 "cells": [
  {
   "cell_type": "markdown",
   "metadata": {
    "id": "yI0hzeE9gd2P"
   },
   "source": [
    "#RUN ONLY ONCE IN THE BEGINING"
   ]
  },
  {
   "cell_type": "code",
   "execution_count": 43,
   "metadata": {
    "id": "tMRi6eocZg9x"
   },
   "outputs": [],
   "source": [
    "import pandas as pd\n",
    "import numpy as np\n",
    "df=pd.read_csv('labeling.csv')\n",
    "all=[]\n",
    "#change this to the number found in the name of last downloaded file\n",
    "counter=-1"
   ]
  },
  {
   "cell_type": "markdown",
   "metadata": {
    "id": "qHU6KtHKglO5"
   },
   "source": [
    "#RUN TO VIEW USER TWEETS"
   ]
  },
  {
   "cell_type": "code",
   "execution_count": null,
   "metadata": {
    "id": "VVhVLkGtZxQk"
   },
   "outputs": [],
   "source": [
    "counter=counter+1\n",
    "df.loc[counter]['Tweet']"
   ]
  },
  {
   "cell_type": "markdown",
   "metadata": {
    "id": "mUhhW6FegtTw"
   },
   "source": [
    "#RUN TO ENTER THE TRAIT FOR THAT USER"
   ]
  },
  {
   "cell_type": "code",
   "execution_count": null,
   "metadata": {
    "id": "rJwmNEAdZ_b9"
   },
   "outputs": [],
   "source": [
    "trait={\n",
    "'o':[1,0,0,0,0],\n",
    "'c':[0,1,0,0,0],\n",
    "'e':[0,0,1,0,0],\n",
    "'a':[0,0,0,1,0],\n",
    "'n':[0,0,0,0,1],\n",
    "'q':[0,0,0,0,0]\n",
    "}\n",
    "pt=[0,0,0,0,0]\n",
    "print('o: Openness, c: Conscientiousness, e: Extraversion, a: Agreeableness, n: Neuroticism.')\n",
    "trait1=input('first trait: ')\n",
    "trait2=input('second trait (q if there is no other trait): ')\n",
    "pt=np.array(trait[trait1])+np.array(trait[trait2])\n",
    "print(pt)"
   ]
  },
  {
   "cell_type": "markdown",
   "metadata": {
    "id": "OQUGe5Gxg53q"
   },
   "source": [
    "#RUN TO SAVE YOUR RESULT AFTER EACH USER"
   ]
  },
  {
   "cell_type": "code",
   "execution_count": 52,
   "metadata": {
    "id": "TVliQQngeL8z"
   },
   "outputs": [],
   "source": [
    "all.append([df.loc[counter]['Username'],pt])"
   ]
  },
  {
   "cell_type": "markdown",
   "metadata": {
    "id": "LrAGd9zqhBgW"
   },
   "source": [
    "#RUN TO SAVE ALL RESULT (IF YOU WANT TO STOP WORKING)"
   ]
  },
  {
   "cell_type": "code",
   "execution_count": 58,
   "metadata": {
    "id": "YNoGuA3GejAx"
   },
   "outputs": [],
   "source": [
    "df=pd.DataFrame(all,columns=['Username','Label'])\n",
    "df.to_csv(f'labeld_{counter}.csv')"
   ]
  },
  {
   "cell_type": "markdown",
   "metadata": {
    "id": "SI0r2t49inq-"
   },
   "source": [
    "#DOWNLOAD THE SAVED FILE EVERY TIME YOU FINSHED WORK\n"
   ]
  }
 ],
 "metadata": {
  "colab": {
   "provenance": []
  },
  "kernelspec": {
   "display_name": "Python 3 (ipykernel)",
   "language": "python",
   "name": "python3"
  },
  "language_info": {
   "codemirror_mode": {
    "name": "ipython",
    "version": 3
   },
   "file_extension": ".py",
   "mimetype": "text/x-python",
   "name": "python",
   "nbconvert_exporter": "python",
   "pygments_lexer": "ipython3",
   "version": "3.9.13"
  }
 },
 "nbformat": 4,
 "nbformat_minor": 1
}
