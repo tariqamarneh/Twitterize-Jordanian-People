{
 "cells": [
  {
   "cell_type": "code",
   "execution_count": null,
   "metadata": {
    "id": "GomfSa6-zqBA",
    "scrolled": true
   },
   "outputs": [],
   "source": [
    "import pandas as pd\n",
    "import tweepy\n",
    "from datetime import datetime, timedelta\n",
    "consumer_key = \"zYiW0dRSfQCXeUK2o7n74Po1z\"\n",
    "consumer_secret = \"UhebsoZsGpSg5w3N8ezdHBbfMYx73Y9MbSd3OR9adAGy9uAyP7\"\n",
    "\n",
    "# Authenticate to the Twitter API\n",
    "auth = tweepy.OAuthHandler(consumer_key, consumer_secret)\n",
    "\n",
    "# Create API object\n",
    "api = tweepy.API(auth)\n",
    "\n",
    "# Set up query and search full archive API\n",
    "data = []\n",
    "query = \"place:Jordan (lang:ar OR lang:en)\"\n",
    "date_start=datetime.strptime(\"20190101000000\", \"%Y%m%d%H%M%S\")\n",
    "date_end=datetime.strptime(\"20230228000000\", \"%Y%m%d%H%M%S\")\n",
    "while date_start<date_end:\n",
    "    s=date_start\n",
    "    date_start=date_start+timedelta(days=5)\n",
    "    e=date_start\n",
    "    response = api.search_full_archive('jordan', query, fromDate=s, toDate=e, maxResults=10)\n",
    "    \n",
    "    # Extract relevant information from API response\n",
    "    for tweet in response:\n",
    "        tweet_json = tweet._json\n",
    "        username = tweet_json['user']['screen_name']\n",
    "        data.append([username])\n",
    "\n",
    "# Create Pandas DataFrame\n",
    "df = pd.DataFrame(data, columns=['Username'])\n",
    "df.drop_duplicates()\n",
    "pd.DataFrame.to_csv(df,'test_usernames.csv')"
   ]
  }
 ],
 "metadata": {
  "colab": {
   "provenance": []
  },
  "kernelspec": {
   "display_name": "Python 3 (ipykernel)",
   "language": "python",
   "name": "python3"
  },
  "language_info": {
   "codemirror_mode": {
    "name": "ipython",
    "version": 3
   },
   "file_extension": ".py",
   "mimetype": "text/x-python",
   "name": "python",
   "nbconvert_exporter": "python",
   "pygments_lexer": "ipython3",
   "version": "3.9.13"
  }
 },
 "nbformat": 4,
 "nbformat_minor": 1
}
