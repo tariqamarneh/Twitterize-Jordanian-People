{
 "cells": [
  {
   "cell_type": "code",
   "execution_count": 1,
   "id": "c973c983",
   "metadata": {},
   "outputs": [],
   "source": [
    "import pandas as pd\n",
    "from sklearn.ensemble import AdaBoostClassifier\n",
    "from sklearn.metrics import classification_report\n",
    "from sklearn.feature_extraction.text import CountVectorizer\n",
    "from sklearn.preprocessing import MinMaxScaler\n",
    "from sklearn.model_selection import train_test_split\n",
    "from sklearn.model_selection import GridSearchCV\n",
    "import cleanlab\n",
    "import pickle"
   ]
  },
  {
   "cell_type": "code",
   "execution_count": 2,
   "id": "810b9132",
   "metadata": {},
   "outputs": [],
   "source": [
    "df=pd.read_csv(r\"C:\\Users\\tareq\\Desktop\\p2\\Data\\All_Users_Labeled.csv\")"
   ]
  },
  {
   "cell_type": "code",
   "execution_count": 3,
   "id": "d9ebfe62",
   "metadata": {},
   "outputs": [],
   "source": [
    "df.drop(['Unnamed: 0','Username'],axis=1,inplace=True)"
   ]
  },
  {
   "cell_type": "code",
   "execution_count": 4,
   "id": "121cbd4f",
   "metadata": {},
   "outputs": [],
   "source": [
    "y = df['c'].values"
   ]
  },
  {
   "cell_type": "code",
   "execution_count": 5,
   "id": "7dd7b5ab",
   "metadata": {},
   "outputs": [],
   "source": [
    "X_num = df.iloc[:, 1:5].values\n",
    "ss=MinMaxScaler()\n",
    "X_num=ss.fit_transform(X=X_num)\n",
    "vectorizer = CountVectorizer()\n",
    "X_text = vectorizer.fit_transform(df['Full_Text'])\n",
    "df1=pd.DataFrame(X_text.toarray(),columns=vectorizer.get_feature_names_out())\n",
    "df1[\"total_words\"]= [x[0] for x in X_num]\n",
    "df1[\"total_char\"]= [x[1] for x in X_num]\n",
    "df1[\"avg_chr_per_word\"]= [x[2] for x in X_num]\n",
    "df1[\"total_emojis\"]= [x[3] for x in X_num]"
   ]
  },
  {
   "cell_type": "code",
   "execution_count": 11,
   "id": "33b55d46",
   "metadata": {},
   "outputs": [],
   "source": [
    "X_train, X_test, y_train, y_test= train_test_split(df1, y, test_size=0.2, random_state=42)"
   ]
  },
  {
   "cell_type": "code",
   "execution_count": null,
   "id": "6621d52c",
   "metadata": {},
   "outputs": [],
   "source": [
    "ada_parameters = {'n_estimators': [25, 50, 100,200,250], 'learning_rate': [0.5, 1, 1.5,1.75],'random_state':[42]}\n",
    "ada = AdaBoostClassifier()\n",
    "ada_grid = GridSearchCV(ada, ada_parameters, cv=5)\n",
    "ada_grid.fit(X_train, y_train)"
   ]
  },
  {
   "cell_type": "code",
   "execution_count": null,
   "id": "cb1aab8b",
   "metadata": {},
   "outputs": [],
   "source": [
    "cl = cleanlab.classification.CleanLearning(ada_grid.best_estimator_,seed=42)\n",
    "cl.fit(X_train, y_train)"
   ]
  },
  {
   "cell_type": "code",
   "execution_count": 10,
   "id": "d47f34eb",
   "metadata": {},
   "outputs": [
    {
     "name": "stdout",
     "output_type": "stream",
     "text": [
      "              precision    recall  f1-score   support\n",
      "\n",
      "           0       0.96      0.95      0.95       271\n",
      "           1       0.77      0.81      0.79        59\n",
      "\n",
      "    accuracy                           0.92       330\n",
      "   macro avg       0.87      0.88      0.87       330\n",
      "weighted avg       0.93      0.92      0.92       330\n",
      "\n"
     ]
    }
   ],
   "source": [
    "y_pred=cl.predict(X_test)\n",
    "print(classification_report(y_test,y_pred))"
   ]
  },
  {
   "cell_type": "code",
   "execution_count": null,
   "id": "e391af7e",
   "metadata": {},
   "outputs": [],
   "source": [
    "pickle.dump(cl,open('final_ml_models/C.pkl', 'wb'))"
   ]
  }
 ],
 "metadata": {
  "kernelspec": {
   "display_name": "Python 3 (ipykernel)",
   "language": "python",
   "name": "python3"
  },
  "language_info": {
   "codemirror_mode": {
    "name": "ipython",
    "version": 3
   },
   "file_extension": ".py",
   "mimetype": "text/x-python",
   "name": "python",
   "nbconvert_exporter": "python",
   "pygments_lexer": "ipython3",
   "version": "3.9.13"
  }
 },
 "nbformat": 4,
 "nbformat_minor": 5
}
