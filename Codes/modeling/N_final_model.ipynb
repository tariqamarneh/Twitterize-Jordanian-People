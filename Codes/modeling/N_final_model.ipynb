{
  "nbformat": 4,
  "nbformat_minor": 0,
  "metadata": {
    "colab": {
      "provenance": []
    },
    "kernelspec": {
      "name": "python3",
      "display_name": "Python 3"
    },
    "language_info": {
      "name": "python"
    }
  },
  "cells": [
    {
      "cell_type": "code",
      "execution_count": 18,
      "metadata": {
        "id": "EbROVloDShMU"
      },
      "outputs": [],
      "source": [
        "import pandas as pd\n",
        "from sklearn.preprocessing import MinMaxScaler\n",
        "from sklearn.feature_extraction.text import CountVectorizer\n",
        "from sklearn.model_selection import train_test_split\n",
        "from sklearn.ensemble import AdaBoostClassifier\n",
        "from sklearn.metrics import classification_report\n",
        "from sklearn.model_selection import GridSearchCV\n",
        "import cleanlab\n",
        "import pickle"
      ]
    },
    {
      "cell_type": "code",
      "source": [
        "df=pd.read_csv(r\"/content/All_Users_Labeled.csv\")"
      ],
      "metadata": {
        "id": "Kphx65t-TEmi"
      },
      "execution_count": 2,
      "outputs": []
    },
    {
      "cell_type": "code",
      "source": [
        "df.drop('Unnamed: 0',axis=1,inplace=True)\n",
        "df.drop('Username',axis=1,inplace=True)"
      ],
      "metadata": {
        "id": "FU0aJSktTRhX"
      },
      "execution_count": 3,
      "outputs": []
    },
    {
      "cell_type": "code",
      "source": [
        "X_num = df.iloc[:, 1:5].values\n",
        "ss=MinMaxScaler()\n",
        "X_num=ss.fit_transform(X=X_num)\n",
        "vectorizer = CountVectorizer()\n",
        "X_text = vectorizer.fit_transform(df['Full_Text'])\n",
        "df1=pd.DataFrame(X_text.toarray(),columns=vectorizer.get_feature_names_out())\n",
        "df1['total_words']= [x[0] for x in X_num]\n",
        "df1[ \"total_char\"]= [x[1] for x in X_num]\n",
        "df1[\"avg_chr_per_word\"]= [x[2] for x in X_num]\n",
        "df1[\"total_emojis\"]= [x[3] for x in X_num]"
      ],
      "metadata": {
        "id": "W9EzkMcWTWEP"
      },
      "execution_count": 5,
      "outputs": []
    },
    {
      "cell_type": "code",
      "source": [
        "y = df['n'].values"
      ],
      "metadata": {
        "id": "5GUuCqFaTz13"
      },
      "execution_count": 6,
      "outputs": []
    },
    {
      "cell_type": "code",
      "source": [
        "X_train, X_test, y_train, y_test= train_test_split(df1, y, test_size=0.2, random_state=42)"
      ],
      "metadata": {
        "id": "KmG3q2zzVcQS"
      },
      "execution_count": 7,
      "outputs": []
    },
    {
      "cell_type": "code",
      "source": [
        "ada_parameters = {'n_estimators': [25, 75,100,200], 'learning_rate': [0.5, 1, 1.5,1.75],'random_state':[42]}\n",
        "ada = AdaBoostClassifier()\n",
        "ada_grid = GridSearchCV(ada, ada_parameters, cv=5)\n",
        "ada_grid.fit(X_train, y_train)"
      ],
      "metadata": {
        "id": "TNpoW22Hzzvu"
      },
      "execution_count": null,
      "outputs": []
    },
    {
      "cell_type": "code",
      "source": [
        "cl = cleanlab.classification.CleanLearning(ada_grid.best_estimator_,seed=42)\n",
        "cl.fit(X_train, y_train)"
      ],
      "metadata": {
        "id": "y8I3LafMzzsr"
      },
      "execution_count": null,
      "outputs": []
    },
    {
      "cell_type": "code",
      "source": [
        "y_pred=cl.predict(X_test)\n",
        "print(classification_report(y_test,y_pred))"
      ],
      "metadata": {
        "colab": {
          "base_uri": "https://localhost:8080/"
        },
        "id": "Mh1eKfv2bKr7",
        "outputId": "2ab7f3eb-0378-4a2a-fd1c-9082eedd84d1"
      },
      "execution_count": 11,
      "outputs": [
        {
          "output_type": "stream",
          "name": "stdout",
          "text": [
            "              precision    recall  f1-score   support\n",
            "\n",
            "           0       0.98      0.99      0.99       300\n",
            "           1       0.92      0.77      0.84        30\n",
            "\n",
            "    accuracy                           0.97       330\n",
            "   macro avg       0.95      0.88      0.91       330\n",
            "weighted avg       0.97      0.97      0.97       330\n",
            "\n"
          ]
        }
      ]
    },
    {
      "cell_type": "code",
      "source": [
        "pickle.dump(cl,open('N.pkl','wb'))"
      ],
      "metadata": {
        "id": "lH9iwf92x3f8"
      },
      "execution_count": 14,
      "outputs": []
    }
  ]
}