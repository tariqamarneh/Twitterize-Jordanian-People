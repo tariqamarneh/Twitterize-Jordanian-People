{
 "cells": [
  {
   "cell_type": "code",
   "execution_count": 1,
   "metadata": {
    "id": "EbROVloDShMU"
   },
   "outputs": [],
   "source": [
    "import pandas as pd\n",
    "from sklearn.preprocessing import MinMaxScaler\n",
    "from sklearn.feature_extraction.text import CountVectorizer\n",
    "from sklearn.model_selection import train_test_split\n",
    "from sklearn.ensemble import AdaBoostClassifier\n",
    "from sklearn.metrics import classification_report\n",
    "from sklearn.model_selection import GridSearchCV\n",
    "import cleanlab\n",
    "import pickle"
   ]
  },
  {
   "cell_type": "code",
   "execution_count": 2,
   "metadata": {
    "id": "Kphx65t-TEmi"
   },
   "outputs": [],
   "source": [
    "df=pd.read_csv(r\"C:\\Users\\tareq\\Desktop\\p2\\Data\\All_Users_Labeled.csv\")"
   ]
  },
  {
   "cell_type": "code",
   "execution_count": 3,
   "metadata": {
    "id": "FU0aJSktTRhX"
   },
   "outputs": [],
   "source": [
    "df.drop('Unnamed: 0',axis=1,inplace=True)\n",
    "df.drop('Username',axis=1,inplace=True)"
   ]
  },
  {
   "cell_type": "code",
   "execution_count": 4,
   "metadata": {
    "id": "W9EzkMcWTWEP"
   },
   "outputs": [],
   "source": [
    "X_num = df.iloc[:, 1:5].values\n",
    "ss=MinMaxScaler()\n",
    "X_num=ss.fit_transform(X=X_num)\n",
    "vectorizer = CountVectorizer()\n",
    "X_text = vectorizer.fit_transform(df['Full_Text'])\n",
    "df1=pd.DataFrame(X_text.toarray(),columns=vectorizer.get_feature_names_out())\n",
    "df1['total_words']= [x[0] for x in X_num]\n",
    "df1[ \"total_char\"]= [x[1] for x in X_num]\n",
    "df1[\"avg_chr_per_word\"]= [x[2] for x in X_num]\n",
    "df1[\"total_emojis\"]= [x[3] for x in X_num]"
   ]
  },
  {
   "cell_type": "code",
   "execution_count": 5,
   "metadata": {
    "id": "5GUuCqFaTz13"
   },
   "outputs": [],
   "source": [
    "y = df['n'].values"
   ]
  },
  {
   "cell_type": "code",
   "execution_count": 6,
   "metadata": {
    "id": "KmG3q2zzVcQS"
   },
   "outputs": [],
   "source": [
    "X_train, X_test, y_train, y_test= train_test_split(df1, y, test_size=0.2, random_state=42)"
   ]
  },
  {
   "cell_type": "code",
   "execution_count": null,
   "metadata": {
    "id": "TNpoW22Hzzvu"
   },
   "outputs": [],
   "source": [
    "ada_parameters = {'n_estimators': [25, 75,100,200], 'learning_rate': [0.5, 1, 1.5,1.75],'random_state':[42]}\n",
    "ada = AdaBoostClassifier()\n",
    "ada_grid = GridSearchCV(ada, ada_parameters, cv=5)\n",
    "ada_grid.fit(X_train, y_train)"
   ]
  },
  {
   "cell_type": "code",
   "execution_count": null,
   "metadata": {
    "id": "y8I3LafMzzsr"
   },
   "outputs": [],
   "source": [
    "cl = cleanlab.classification.CleanLearning(ada_grid.best_estimator_,seed=42)\n",
    "cl.fit(X_train, y_train)"
   ]
  },
  {
   "cell_type": "code",
   "execution_count": 11,
   "metadata": {
    "colab": {
     "base_uri": "https://localhost:8080/"
    },
    "id": "Mh1eKfv2bKr7",
    "outputId": "2ab7f3eb-0378-4a2a-fd1c-9082eedd84d1"
   },
   "outputs": [
    {
     "name": "stdout",
     "output_type": "stream",
     "text": [
      "              precision    recall  f1-score   support\n",
      "\n",
      "           0       0.98      0.99      0.99       300\n",
      "           1       0.92      0.77      0.84        30\n",
      "\n",
      "    accuracy                           0.97       330\n",
      "   macro avg       0.95      0.88      0.91       330\n",
      "weighted avg       0.97      0.97      0.97       330\n",
      "\n"
     ]
    }
   ],
   "source": [
    "y_pred=cl.predict(X_test)\n",
    "print(classification_report(y_test,y_pred))"
   ]
  },
  {
   "cell_type": "code",
   "execution_count": 14,
   "metadata": {
    "id": "lH9iwf92x3f8"
   },
   "outputs": [],
   "source": [
    "pickle.dump(cl,open('N.pkl','wb'))"
   ]
  }
 ],
 "metadata": {
  "colab": {
   "provenance": []
  },
  "kernelspec": {
   "display_name": "Python 3 (ipykernel)",
   "language": "python",
   "name": "python3"
  },
  "language_info": {
   "codemirror_mode": {
    "name": "ipython",
    "version": 3
   },
   "file_extension": ".py",
   "mimetype": "text/x-python",
   "name": "python",
   "nbconvert_exporter": "python",
   "pygments_lexer": "ipython3",
   "version": "3.9.13"
  }
 },
 "nbformat": 4,
 "nbformat_minor": 1
}
