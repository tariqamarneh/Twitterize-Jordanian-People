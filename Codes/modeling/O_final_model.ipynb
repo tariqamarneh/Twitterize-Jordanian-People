{
 "cells": [
  {
   "cell_type": "code",
   "execution_count": null,
   "id": "ad8ea4cb",
   "metadata": {},
   "outputs": [],
   "source": [
    "import pandas as pd\n",
    "from sklearn.ensemble import RandomForestClassifier\n",
    "from sklearn.metrics import classification_report\n",
    "from sklearn.feature_extraction.text import CountVectorizer\n",
    "from sklearn.preprocessing import MinMaxScaler\n",
    "from sklearn.model_selection import train_test_split\n",
    "from sklearn.model_selection import GridSearchCV\n",
    "from imblearn.over_sampling import RandomOverSampler\n",
    "import cleanlab\n",
    "import pickle"
   ]
  },
  {
   "cell_type": "code",
   "execution_count": null,
   "id": "f03fc041",
   "metadata": {},
   "outputs": [],
   "source": [
    "df=pd.read_csv(r\"C:\\Users\\tareq\\Desktop\\All_Users_Labeled.csv\")"
   ]
  },
  {
   "cell_type": "code",
   "execution_count": null,
   "id": "afda40ed",
   "metadata": {},
   "outputs": [],
   "source": [
    "df.drop(['Unnamed: 0','Username'],axis=1,inplace=True)"
   ]
  },
  {
   "cell_type": "code",
   "execution_count": null,
   "id": "ff5b16a3",
   "metadata": {},
   "outputs": [],
   "source": [
    "y = df['o'].values"
   ]
  },
  {
   "cell_type": "code",
   "execution_count": null,
   "id": "b343915b",
   "metadata": {},
   "outputs": [],
   "source": [
    "X_num = df.iloc[:, 1:5].values\n",
    "ss=MinMaxScaler()\n",
    "X_num=ss.fit_transform(X=X_num)\n",
    "vectorizer = CountVectorizer()\n",
    "X_text = vectorizer.fit_transform(df['Full_Text'])\n",
    "df1=pd.DataFrame(X_text.toarray(),columns=vectorizer.get_feature_names_out())\n",
    "df1[\"total_words\"]= [x[0] for x in X_num]\n",
    "df1[\"total_char\"]= [x[1] for x in X_num]\n",
    "df1[\"avg_chr_per_word\"]= [x[2] for x in X_num]\n",
    "df1[\"total_emojis\"]= [x[3] for x in X_num]"
   ]
  },
  {
   "cell_type": "code",
   "execution_count": null,
   "id": "0b5933e8",
   "metadata": {},
   "outputs": [],
   "source": [
    "X_train, X_test, y_train, y_test= train_test_split(df1, y, test_size=0.2, random_state=42)"
   ]
  },
  {
   "cell_type": "code",
   "execution_count": null,
   "id": "4aa59598",
   "metadata": {},
   "outputs": [],
   "source": [
    "s=RandomOverSampler()\n",
    "X_train_r, y_train_r=s.fit_resample(X_train,y_train)"
   ]
  },
  {
   "cell_type": "code",
   "execution_count": null,
   "id": "5c918406",
   "metadata": {},
   "outputs": [],
   "source": [
    "rfc_parameters = {'class_weight': ['balanced_subsample','balanced',None], 'criterion': ['entropy','log_loss','gini'],'max_features':['sqrt','log2',None],'n_estimators':[10,100,500,1000,1500],'max_depth':[10,50,125,170,200],'random_state':[42]}\n",
    "rfc = RandomForestClassifier()\n",
    "rfc_grid = GridSearchCV(rfc, rfc_parameters, cv=5)\n",
    "rfc_grid.fit(X_train_r, y_train_r)"
   ]
  },
  {
   "cell_type": "code",
   "execution_count": null,
   "id": "88391818",
   "metadata": {},
   "outputs": [],
   "source": [
    "m=rfc_grid.best_estimator_\n",
    "m.fit(X_train_r,y_train_r)"
   ]
  },
  {
   "cell_type": "code",
   "execution_count": null,
   "id": "b88571e5",
   "metadata": {},
   "outputs": [],
   "source": [
    "y_pred=m.predict(X_test)\n",
    "print(classification_report(y_test,y_pred))"
   ]
  },
  {
   "cell_type": "markdown",
   "id": "fb2c223a",
   "metadata": {},
   "source": [
    "              precision    recall  f1-score   support\n",
    "\n",
    "           0       0.91      0.84      0.87       247\n",
    "           1       0.61      0.75      0.67        83\n",
    "\n",
    "    accuracy                           0.82       330\n",
    "   macro avg       0.76      0.79      0.77       330\n",
    "weighted avg       0.83      0.82      0.82       330"
   ]
  },
  {
   "cell_type": "code",
   "execution_count": null,
   "id": "03b3da77",
   "metadata": {},
   "outputs": [],
   "source": [
    "pickle.dump(m, open('final_ml_models/O.pkl', 'wb'))"
   ]
  },
  {
   "cell_type": "code",
   "execution_count": null,
   "id": "2f26c0b0",
   "metadata": {},
   "outputs": [],
   "source": []
  }
 ],
 "metadata": {
  "kernelspec": {
   "display_name": "Python 3 (ipykernel)",
   "language": "python",
   "name": "python3"
  },
  "language_info": {
   "codemirror_mode": {
    "name": "ipython",
    "version": 3
   },
   "file_extension": ".py",
   "mimetype": "text/x-python",
   "name": "python",
   "nbconvert_exporter": "python",
   "pygments_lexer": "ipython3",
   "version": "3.9.13"
  }
 },
 "nbformat": 4,
 "nbformat_minor": 5
}
