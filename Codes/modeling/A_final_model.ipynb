{
 "cells": [
  {
   "cell_type": "code",
   "execution_count": 1,
   "id": "7544c43c",
   "metadata": {
    "id": "7544c43c"
   },
   "outputs": [],
   "source": [
    "import pandas as pd\n",
    "from sklearn.preprocessing import MinMaxScaler\n",
    "from sklearn.feature_extraction.text import CountVectorizer\n",
    "from sklearn.model_selection import train_test_split\n",
    "from sklearn.metrics import classification_report\n",
    "from sklearn.model_selection import GridSearchCV\n",
    "from sklearn.ensemble import ExtraTreesClassifier\n",
    "import pickle"
   ]
  },
  {
   "cell_type": "code",
   "execution_count": 3,
   "id": "ec7957fe",
   "metadata": {
    "id": "ec7957fe"
   },
   "outputs": [],
   "source": [
    "df=pd.read_csv(r\"C:\\Users\\tareq\\Desktop\\p2\\Data\\All_Users_Labeled.csv\")"
   ]
  },
  {
   "cell_type": "code",
   "execution_count": 4,
   "id": "0491eee2",
   "metadata": {
    "id": "0491eee2"
   },
   "outputs": [],
   "source": [
    "df.drop('Unnamed: 0',axis=1,inplace=True)\n",
    "df.drop('Username',axis=1,inplace=True)"
   ]
  },
  {
   "cell_type": "code",
   "execution_count": 5,
   "id": "bbd99c07",
   "metadata": {
    "id": "bbd99c07"
   },
   "outputs": [],
   "source": [
    "X_num = df.iloc[:, 1:5].values\n",
    "ss=MinMaxScaler()\n",
    "X_num=ss.fit_transform(X=X_num)\n",
    "vectorizer = CountVectorizer()\n",
    "X_text = vectorizer.fit_transform(df['Full_Text'])\n",
    "df1=pd.DataFrame(X_text.toarray(),columns=vectorizer.get_feature_names_out())\n",
    "df1['total_words']= [x[0] for x in X_num]\n",
    "df1[ \"total_char\"]= [x[1] for x in X_num]\n",
    "df1[\"avg_chr_per_word\"]= [x[2] for x in X_num]\n",
    "df1[\"total_emojis\"]= [x[3] for x in X_num]"
   ]
  },
  {
   "cell_type": "code",
   "execution_count": 6,
   "id": "01941182",
   "metadata": {
    "id": "01941182"
   },
   "outputs": [],
   "source": [
    "y = df['a'].values"
   ]
  },
  {
   "cell_type": "code",
   "execution_count": 7,
   "id": "30ae3f22",
   "metadata": {
    "id": "30ae3f22"
   },
   "outputs": [],
   "source": [
    "X_train, X_test, y_train, y_test= train_test_split(df1, y, test_size=0.2, random_state=42)"
   ]
  },
  {
   "cell_type": "code",
   "execution_count": null,
   "id": "4U2wlBg-CboJ",
   "metadata": {
    "id": "4U2wlBg-CboJ"
   },
   "outputs": [],
   "source": [
    "etc_parameters = {'max_features': ['sqrt', 'log2', None], 'max_depth': [10, 50, 100,150,None],'criterion':['gini', 'entropy', 'log_loss'],'n_estimators':[10,50,100,150],'random_state':[42]}\n",
    "etc = ExtraTreesClassifier()\n",
    "etc_grid = GridSearchCV(etc, etc_parameters, cv=5)\n",
    "etc_grid.fit(X_train, y_train)"
   ]
  },
  {
   "cell_type": "code",
   "execution_count": null,
   "id": "7200fcc9",
   "metadata": {
    "id": "7200fcc9"
   },
   "outputs": [],
   "source": [
    "m=etc_grid.best_estimator_"
   ]
  },
  {
   "cell_type": "code",
   "execution_count": 18,
   "id": "662297f7",
   "metadata": {
    "id": "662297f7"
   },
   "outputs": [],
   "source": [
    "y_pred=m.predict(X_test)"
   ]
  },
  {
   "cell_type": "code",
   "execution_count": 19,
   "id": "9c581fa6",
   "metadata": {
    "colab": {
     "base_uri": "https://localhost:8080/"
    },
    "id": "9c581fa6",
    "outputId": "c00623c7-e206-4711-fc95-ca06736d6583"
   },
   "outputs": [
    {
     "name": "stdout",
     "output_type": "stream",
     "text": [
      "              precision    recall  f1-score   support\n",
      "\n",
      "           0       0.86      0.72      0.78       156\n",
      "           1       0.78      0.89      0.83       174\n",
      "\n",
      "    accuracy                           0.81       330\n",
      "   macro avg       0.82      0.81      0.81       330\n",
      "weighted avg       0.82      0.81      0.81       330\n",
      "\n"
     ]
    }
   ],
   "source": [
    "print(classification_report(y_test,y_pred))"
   ]
  },
  {
   "cell_type": "code",
   "execution_count": null,
   "id": "vl4q8n3OEpxY",
   "metadata": {
    "id": "vl4q8n3OEpxY"
   },
   "outputs": [],
   "source": [
    "pickle.dump(m, open('final_ml_models/E.pkl', 'wb'))"
   ]
  }
 ],
 "metadata": {
  "colab": {
   "provenance": []
  },
  "kernelspec": {
   "display_name": "Python 3 (ipykernel)",
   "language": "python",
   "name": "python3"
  },
  "language_info": {
   "codemirror_mode": {
    "name": "ipython",
    "version": 3
   },
   "file_extension": ".py",
   "mimetype": "text/x-python",
   "name": "python",
   "nbconvert_exporter": "python",
   "pygments_lexer": "ipython3",
   "version": "3.9.13"
  }
 },
 "nbformat": 4,
 "nbformat_minor": 5
}
