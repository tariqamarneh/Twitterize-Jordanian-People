{
 "cells": [
  {
   "cell_type": "code",
   "execution_count": 1,
   "id": "3f7d6a31",
   "metadata": {
    "scrolled": true
   },
   "outputs": [],
   "source": [
    "import pandas as pd\n",
    "import numpy as np\n",
    "from tensorflow.keras.preprocessing.text import Tokenizer\n",
    "from tensorflow.keras.preprocessing.sequence import pad_sequences\n",
    "from tensorflow.keras.models import Sequential\n",
    "from tensorflow.keras.layers import Dense, Embedding, LSTM\n",
    "from sklearn.model_selection import train_test_split,GridSearchCV\n",
    "from sklearn.ensemble import RandomForestClassifier\n",
    "from sklearn.feature_extraction.text import CountVectorizer\n",
    "from sklearn.utils.class_weight import compute_class_weight\n",
    "from sklearn.metrics import precision_score\n",
    "from sklearn.metrics import classification_report\n",
    "from sklearn.metrics import recall_score,f1_score,classification_report\n",
    "from imblearn.over_sampling import SMOTE,RandomOverSampler\n",
    "from imblearn.under_sampling import RandomUnderSampler\n",
    "from sklearn.decomposition import PCA, TruncatedSVD, LatentDirichletAllocation\n",
    "from sklearn.decomposition import NMF\n",
    "from sklearn.decomposition import KernelPCA\n",
    "from sklearn.decomposition import LatentDirichletAllocation\n",
    "from sklearn.pipeline import make_pipeline\n",
    "from sklearn.metrics import precision_score, make_scorer\n",
    "from sklearn.preprocessing import StandardScaler\n",
    "from sklearn.feature_selection import chi2"
   ]
  },
  {
   "cell_type": "code",
   "execution_count": 2,
   "id": "a72247f0",
   "metadata": {},
   "outputs": [],
   "source": [
    "df=pd.read_csv(r\"C:\\Users\\tareq\\Desktop\\All_Users_Labeled.csv\")"
   ]
  },
  {
   "cell_type": "code",
   "execution_count": 109,
   "id": "4cad395c",
   "metadata": {},
   "outputs": [
    {
     "data": {
      "text/html": [
       "<div>\n",
       "<style scoped>\n",
       "    .dataframe tbody tr th:only-of-type {\n",
       "        vertical-align: middle;\n",
       "    }\n",
       "\n",
       "    .dataframe tbody tr th {\n",
       "        vertical-align: top;\n",
       "    }\n",
       "\n",
       "    .dataframe thead th {\n",
       "        text-align: right;\n",
       "    }\n",
       "</style>\n",
       "<table border=\"1\" class=\"dataframe\">\n",
       "  <thead>\n",
       "    <tr style=\"text-align: right;\">\n",
       "      <th></th>\n",
       "      <th>Full_Text</th>\n",
       "      <th>total_words</th>\n",
       "      <th>total_char</th>\n",
       "      <th>avg_chr_per_word</th>\n",
       "      <th>total_emojis</th>\n",
       "      <th>o</th>\n",
       "      <th>c</th>\n",
       "      <th>e</th>\n",
       "      <th>a</th>\n",
       "      <th>n</th>\n",
       "    </tr>\n",
       "  </thead>\n",
       "  <tbody>\n",
       "    <tr>\n",
       "      <th>0</th>\n",
       "      <td>كلمه انثي صارت تضرب عصبي بمناسبه المراه العالم...</td>\n",
       "      <td>2530.0</td>\n",
       "      <td>17071.0</td>\n",
       "      <td>6.087708</td>\n",
       "      <td>151.0</td>\n",
       "      <td>0</td>\n",
       "      <td>0</td>\n",
       "      <td>1</td>\n",
       "      <td>1</td>\n",
       "      <td>0</td>\n",
       "    </tr>\n",
       "    <tr>\n",
       "      <th>1</th>\n",
       "      <td>فش موظفين القهوه الكيوت اللي بحكيلك بنفع يحط ش...</td>\n",
       "      <td>1394.0</td>\n",
       "      <td>8593.0</td>\n",
       "      <td>5.656274</td>\n",
       "      <td>28.0</td>\n",
       "      <td>1</td>\n",
       "      <td>0</td>\n",
       "      <td>0</td>\n",
       "      <td>0</td>\n",
       "      <td>0</td>\n",
       "    </tr>\n",
       "    <tr>\n",
       "      <th>2</th>\n",
       "      <td>مباشر القداس الالهي وصلاه المراثي كنيسه القديس...</td>\n",
       "      <td>5404.0</td>\n",
       "      <td>38315.0</td>\n",
       "      <td>6.158481</td>\n",
       "      <td>2.0</td>\n",
       "      <td>0</td>\n",
       "      <td>1</td>\n",
       "      <td>0</td>\n",
       "      <td>1</td>\n",
       "      <td>0</td>\n",
       "    </tr>\n",
       "    <tr>\n",
       "      <th>3</th>\n",
       "      <td>ارتفع قهوه ارتفع قلبين قطعه شوكولاته ارتفع قل...</td>\n",
       "      <td>674.0</td>\n",
       "      <td>4665.0</td>\n",
       "      <td>6.584828</td>\n",
       "      <td>48.0</td>\n",
       "      <td>1</td>\n",
       "      <td>0</td>\n",
       "      <td>0</td>\n",
       "      <td>0</td>\n",
       "      <td>0</td>\n",
       "    </tr>\n",
       "    <tr>\n",
       "      <th>4</th>\n",
       "      <td>يتدحرج الارض الضحك  فن   غيم غيم   وجه متعب  ...</td>\n",
       "      <td>328.0</td>\n",
       "      <td>2398.0</td>\n",
       "      <td>6.471875</td>\n",
       "      <td>47.0</td>\n",
       "      <td>1</td>\n",
       "      <td>0</td>\n",
       "      <td>1</td>\n",
       "      <td>0</td>\n",
       "      <td>0</td>\n",
       "    </tr>\n",
       "  </tbody>\n",
       "</table>\n",
       "</div>"
      ],
      "text/plain": [
       "                                           Full_Text  total_words  total_char  \\\n",
       "0  كلمه انثي صارت تضرب عصبي بمناسبه المراه العالم...       2530.0     17071.0   \n",
       "1  فش موظفين القهوه الكيوت اللي بحكيلك بنفع يحط ش...       1394.0      8593.0   \n",
       "2  مباشر القداس الالهي وصلاه المراثي كنيسه القديس...       5404.0     38315.0   \n",
       "3   ارتفع قهوه ارتفع قلبين قطعه شوكولاته ارتفع قل...        674.0      4665.0   \n",
       "4   يتدحرج الارض الضحك  فن   غيم غيم   وجه متعب  ...        328.0      2398.0   \n",
       "\n",
       "   avg_chr_per_word  total_emojis  o  c  e  a  n  \n",
       "0          6.087708         151.0  0  0  1  1  0  \n",
       "1          5.656274          28.0  1  0  0  0  0  \n",
       "2          6.158481           2.0  0  1  0  1  0  \n",
       "3          6.584828          48.0  1  0  0  0  0  \n",
       "4          6.471875          47.0  1  0  1  0  0  "
      ]
     },
     "execution_count": 109,
     "metadata": {},
     "output_type": "execute_result"
    }
   ],
   "source": [
    "df.head()"
   ]
  },
  {
   "cell_type": "code",
   "execution_count": 10,
   "id": "bff43ad1",
   "metadata": {},
   "outputs": [
    {
     "name": "stderr",
     "output_type": "stream",
     "text": [
      "C:\\Users\\tareq\\AppData\\Local\\Temp\\ipykernel_3488\\3509394340.py:3: SettingWithCopyWarning: \n",
      "A value is trying to be set on a copy of a slice from a DataFrame.\n",
      "Try using .loc[row_indexer,col_indexer] = value instead\n",
      "\n",
      "See the caveats in the documentation: https://pandas.pydata.org/pandas-docs/stable/user_guide/indexing.html#returning-a-view-versus-a-copy\n",
      "  df[['total_words','total_char','avg_chr_per_word','total_emojis']]=ss.fit_transform(df[['total_words','total_char','avg_chr_per_word','total_emojis']])\n"
     ]
    }
   ],
   "source": [
    "from sklearn.preprocessing import StandardScaler\n",
    "ss=StandardScaler()\n",
    "df[['total_words','total_char','avg_chr_per_word','total_emojis']]=ss.fit_transform(df[['total_words','total_char','avg_chr_per_word','total_emojis']])"
   ]
  },
  {
   "cell_type": "code",
   "execution_count": 11,
   "id": "35b2a8ce",
   "metadata": {},
   "outputs": [
    {
     "data": {
      "image/png": "[encoded data removed]",
      "text/plain": [
       "<Figure size 640x480 with 1 Axes>"
      ]
     },
     "metadata": {},
     "output_type": "display_data"
    }
   ],
   "source": [
    "import matplotlib.pyplot as plt\n",
    "\n",
    "# Compute the length of each text in the dataset\n",
    "text_lengths = [len(text.split()) for text in df['Full_Text']]\n",
    "\n",
    "# Plot the distribution of text lengths\n",
    "plt.hist(text_lengths, bins=50)\n",
    "plt.title('Distribution of Text Lengths')\n",
    "plt.xlabel('Text Length')\n",
    "plt.ylabel('Frequency')\n",
    "plt.show()\n"
   ]
  },
  {
   "cell_type": "code",
   "execution_count": 90,
   "id": "98ef5025",
   "metadata": {},
   "outputs": [
    {
     "name": "stdout",
     "output_type": "stream",
     "text": [
      "Epoch 1/20\n",
      "11/11 [==============================] - 14s 1s/step - loss: 0.6028 - accuracy: 0.7090 - val_loss: 0.4841 - val_accuracy: 0.8025\n",
      "Epoch 2/20\n",
      "11/11 [==============================] - 11s 956ms/step - loss: 0.5558 - accuracy: 0.7554 - val_loss: 0.4925 - val_accuracy: 0.8025\n",
      "Epoch 3/20\n",
      "11/11 [==============================] - 11s 1s/step - loss: 0.5380 - accuracy: 0.7616 - val_loss: 0.4864 - val_accuracy: 0.8025\n",
      "Epoch 4/20\n",
      "11/11 [==============================] - 12s 1s/step - loss: 0.5480 - accuracy: 0.7616 - val_loss: 0.4936 - val_accuracy: 0.8025\n",
      "Epoch 4: early stopping\n",
      "4/4 [==============================] - 1s 183ms/step - loss: 0.5924 - accuracy: 0.7624\n",
      "Test Loss: 0.5924325585365295, Test Accuracy: 0.7623762488365173\n"
     ]
    }
   ],
   "source": [
    "import numpy as np\n",
    "import pandas as pd\n",
    "import tensorflow as tf\n",
    "from sklearn.model_selection import train_test_split\n",
    "from tensorflow.keras.preprocessing.sequence import pad_sequences\n",
    "from tensorflow.keras.layers import Dense, Embedding, LSTM, Input, Concatenate,Dropout,Flatten\n",
    "from tensorflow.keras.models import Model\n",
    "from tensorflow.keras.utils import to_categorical\n",
    "from tensorflow.keras.callbacks import EarlyStopping\n",
    "from keras.optimizers import Adam\n",
    "\n",
    "\n",
    "X = df['Full_Text']\n",
    "#y = df[['o', 'c', 'e', 'a', 'n']]\n",
    "y=df['n']\n",
    "other_features = df[['total_words', 'total_char', 'avg_chr_per_word', 'total_emojis']]\n",
    "\n",
    "X_train, X_test, y_train, y_test, other_features_train, other_features_test = train_test_split(X, y, other_features, test_size=0.2, random_state=42)\n",
    "\n",
    "# Tokenize the input texts\n",
    "tokenizer = tf.keras.preprocessing.text.Tokenizer(num_words=95000, oov_token='<OOV>')\n",
    "tokenizer.fit_on_texts(X_train)\n",
    "X_train_seq = tokenizer.texts_to_sequences(X_train)\n",
    "X_test_seq = tokenizer.texts_to_sequences(X_test)\n",
    "\n",
    "# Pad the input sequences\n",
    "max_len = 2000 # Set a max length that captures most of the context without introducing too much padding\n",
    "X_train_padded = pad_sequences(X_train_seq, maxlen=max_len, padding='post', truncating='post')\n",
    "X_test_padded = pad_sequences(X_test_seq, maxlen=max_len, padding='post', truncating='post')\n",
    "\n",
    "# Convert labels to categorical format\n",
    "#y_train_cat = to_categorical(y_train)\n",
    "#y_test_cat = to_categorical(y_test)\n",
    "\n",
    "# Define the other features input layer\n",
    "other_features_input = Input(shape=(4,), name='other_features_input')\n",
    "\n",
    "# Define the text input layer\n",
    "text_input = Input(shape=(max_len,), name='text_input')\n",
    "\n",
    "# Define the embedding layer for the text input\n",
    "embedding_dim = 64\n",
    "embedded_text = Embedding(input_dim=95000, output_dim=embedding_dim, input_length=max_len)(text_input)\n",
    "\n",
    "# Define the LSTM layer\n",
    "lstm = LSTM(units=8)(embedded_text)\n",
    "# Add Dense layer to reshape input_features\n",
    "dense = Dense(units=8)(other_features_input)\n",
    "\n",
    "# Concatenate the LSTM output and dense layer output\n",
    "concatenated = Concatenate()([lstm, dense])\n",
    "\n",
    "# Define the output layer\n",
    "\n",
    "output = Dense(units=1, activation='sigmoid')(concatenated)\n",
    "\n",
    "# Define the model with both the text input and other features input\n",
    "model = Model(inputs=[text_input, other_features_input], outputs=output)\n",
    "\n",
    "# compute class weights\n",
    "total = y.shape[0]\n",
    "class_0 = np.sum(y == 0)\n",
    "class_1 = np.sum(y == 1)\n",
    "w0 = total / class_0\n",
    "w1 = total / class_1\n",
    "class_weight = {0: w0, 1: w1}\n",
    "\n",
    "# Compile the model\n",
    "from keras.optimizers import SGD\n",
    "opt = SGD(learning_rate=0.1, decay=1e-6, momentum=0.9, nesterov=True)\n",
    "model.compile(loss = \"binary_crossentropy\", optimizer = opt,metrics=['accuracy'])\n",
    "\n",
    "# Train the model\n",
    "es = EarlyStopping(patience=3, verbose=1)\n",
    "history = model.fit(\n",
    "    x=[X_train_padded, other_features_train],\n",
    "    y=y_train,\n",
    "    validation_split=0.2,\n",
    "    epochs=20,\n",
    "    batch_size=32,\n",
    "    #shuffle=True,\n",
    "    #class_weight=class_weight,\n",
    "    callbacks=[es]\n",
    ")\n",
    "\n",
    "# Evaluate the model on the test set\n",
    "test_loss, test_acc = model.evaluate(x=[X_test_padded, other_features_test], y=y_test)\n",
    "print(f'Test Loss: {test_loss}, Test Accuracy: {test_acc}')\n"
   ]
  },
  {
   "cell_type": "code",
   "execution_count": 98,
   "id": "b2f99eb0",
   "metadata": {},
   "outputs": [
    {
     "name": "stderr",
     "output_type": "stream",
     "text": [
      "WARNING:absl:Found untraced functions such as lstm_cell_28_layer_call_fn, lstm_cell_28_layer_call_and_return_conditional_losses while saving (showing 2 of 2). These functions will not be directly callable after loading.\n"
     ]
    },
    {
     "name": "stdout",
     "output_type": "stream",
     "text": [
      "INFO:tensorflow:Assets written to: saved_model/rnn_n_33\\assets\n"
     ]
    },
    {
     "name": "stderr",
     "output_type": "stream",
     "text": [
      "INFO:tensorflow:Assets written to: saved_model/rnn_n_33\\assets\n"
     ]
    }
   ],
   "source": [
    "model.save('saved_model/rnn_n_33')"
   ]
  },
  {
   "cell_type": "code",
   "execution_count": 97,
   "id": "0cf1c189",
   "metadata": {},
   "outputs": [
    {
     "name": "stdout",
     "output_type": "stream",
     "text": [
      "4/4 [==============================] - 1s 140ms/step\n"
     ]
    },
    {
     "data": {
      "text/plain": [
       "array([22])"
      ]
     },
     "execution_count": 97,
     "metadata": {},
     "output_type": "execute_result"
    }
   ],
   "source": [
    "y_pred=model.predict(x=[X_test_padded, other_features_test])\n",
    "sum(y_pred>0.33)"
   ]
  },
  {
   "cell_type": "code",
   "execution_count": 92,
   "id": "0b02bcf2",
   "metadata": {},
   "outputs": [
    {
     "data": {
      "text/plain": [
       "23"
      ]
     },
     "execution_count": 92,
     "metadata": {},
     "output_type": "execute_result"
    }
   ],
   "source": [
    "sum(y_test)"
   ]
  },
  {
   "cell_type": "code",
   "execution_count": 10,
   "id": "1ad34424",
   "metadata": {},
   "outputs": [],
   "source": [
    "X_num = df.iloc[:, 1:5].values"
   ]
  },
  {
   "cell_type": "code",
   "execution_count": 78,
   "id": "24c56af6",
   "metadata": {},
   "outputs": [],
   "source": [
    "import pandas as pd\n",
    "from sklearn.feature_extraction.text import CountVectorizer\n",
    "from sklearn.ensemble import RandomForestClassifier\n",
    "from sklearn.model_selection import train_test_split\n",
    "from sklearn.metrics import accuracy_score\n",
    "from scipy.sparse import hstack\n",
    "from sklearn.metrics import precision_score, recall_score\n",
    "\n",
    "# Extract the numerical features and labels\n",
    "X_num = df.iloc[:, 1:5].values\n",
    "#ss=StandardScaler()\n",
    "#X_num=ss.fit_transform(X=X_num)\n",
    "y = df['c'].values\n",
    "\n",
    "# Convert the cleaned text to numerical features using BoW\n",
    "vectorizer = CountVectorizer()\n",
    "X_text = vectorizer.fit_transform(df['Full_Text'])"
   ]
  },
  {
   "cell_type": "code",
   "execution_count": 79,
   "id": "3e097d5a",
   "metadata": {},
   "outputs": [],
   "source": [
    "dfdf=pd.DataFrame(X_text.toarray(),columns=vectorizer.get_feature_names_out())\n",
    "dfdf['total_words']= [x[0] for x in X_num]\n",
    "dfdf[ \"total_char\"]= [x[1] for x in X_num]\n",
    "dfdf[\"avg_chr_per_word\"]= [x[2] for x in X_num]\n",
    "dfdf[\"total_emojis\"]= [x[3] for x in X_num]\n",
    "# Split the dataset into training and testing sets\n",
    "X_train, X_test, y_train, y_test = train_test_split(dfdf, y, test_size=0.2, random_state=42)"
   ]
  },
  {
   "cell_type": "code",
   "execution_count": 80,
   "id": "beaced99",
   "metadata": {},
   "outputs": [
    {
     "name": "stdout",
     "output_type": "stream",
     "text": [
      "Accuracy: 0.5742574257425742\n",
      "Precision: 0.18181818181818182\n",
      "Recall: 0.05555555555555555\n"
     ]
    }
   ],
   "source": [
    "# Instantiate an RFC model\n",
    "rfc = RandomForestClassifier(random_state=42)\n",
    "\n",
    "# Train the model\n",
    "rfc.fit(X_train, y_train)\n",
    "\n",
    "# Evaluate the model\n",
    "y_pred = rfc.predict(X_test)\n",
    "accuracy = accuracy_score(y_test, y_pred)\n",
    "precision = precision_score(y_test, y_pred)\n",
    "recall = recall_score(y_test, y_pred)\n",
    "\n",
    "print('Accuracy:', accuracy)\n",
    "print('Precision:', precision)\n",
    "print('Recall:', recall)"
   ]
  },
  {
   "cell_type": "code",
   "execution_count": 81,
   "id": "d38942a8",
   "metadata": {},
   "outputs": [
    {
     "name": "stdout",
     "output_type": "stream",
     "text": [
      "Train accuracy: 1.0000\n",
      "Test accuracy: 0.4851\n",
      "Precision: 0.2333\n",
      "recall: 0.1944\n"
     ]
    }
   ],
   "source": [
    "#rfc\n",
    "#oversampling\n",
    "\n",
    "# Use SMOTE to oversample the minority class\n",
    "smote = SMOTE(random_state=42)\n",
    "X_train_resampled, y_train_resampled = smote.fit_resample(X_train, y_train)\n",
    "\n",
    "# Train the model\n",
    "rfc = RandomForestClassifier(random_state=42)\n",
    "rfc.fit(X_train_resampled, y_train_resampled)\n",
    "\n",
    "# Evaluate the model\n",
    "train_accuracy = rfc.score(X_train_resampled, y_train_resampled)\n",
    "test_accuracy = rfc.score(X_test, y_test)\n",
    "print(f'Train accuracy: {train_accuracy:.4f}')\n",
    "print(f'Test accuracy: {test_accuracy:.4f}')\n",
    "\n",
    "# Compute precision on the test set\n",
    "y_pred = rfc.predict(X_test)\n",
    "precision = precision_score(y_test, y_pred)\n",
    "recall= recall_score(y_test, y_pred)\n",
    "print(f'Precision: {precision:.4f}')\n",
    "print(f'recall: {recall:.4f}')"
   ]
  },
  {
   "cell_type": "code",
   "execution_count": 82,
   "id": "d75abb2a",
   "metadata": {},
   "outputs": [
    {
     "name": "stdout",
     "output_type": "stream",
     "text": [
      "Train accuracy: 1.0000\n",
      "Test accuracy: 0.5347\n",
      "Precision: 0.2609\n",
      "recall: 0.1667\n"
     ]
    }
   ],
   "source": [
    "#rfc\n",
    "#oversampling\n",
    "\n",
    "\n",
    "# Use SMOTE to oversample the minority class\n",
    "smote = RandomOverSampler(random_state=42)\n",
    "X_train_resampled, y_train_resampled = smote.fit_resample(X_train, y_train)\n",
    "\n",
    "# Train the model\n",
    "rfc = RandomForestClassifier(random_state=42)\n",
    "rfc.fit(X_train_resampled, y_train_resampled)\n",
    "\n",
    "# Evaluate the model\n",
    "train_accuracy = rfc.score(X_train_resampled, y_train_resampled)\n",
    "test_accuracy = rfc.score(X_test, y_test)\n",
    "print(f'Train accuracy: {train_accuracy:.4f}')\n",
    "print(f'Test accuracy: {test_accuracy:.4f}')\n",
    "\n",
    "# Compute precision on the test set\n",
    "y_pred = rfc.predict(X_test)\n",
    "precision = precision_score(y_test, y_pred)\n",
    "recall= recall_score(y_test, y_pred)\n",
    "print(f'Precision: {precision:.4f}')\n",
    "print(f'recall: {recall:.4f}')"
   ]
  },
  {
   "cell_type": "code",
   "execution_count": 84,
   "id": "5ad59278",
   "metadata": {},
   "outputs": [
    {
     "name": "stdout",
     "output_type": "stream",
     "text": [
      "Train accuracy: 1.0000\n",
      "Test accuracy: 0.4158\n",
      "Precision: 0.3051\n",
      "recall: 0.5000\n"
     ]
    }
   ],
   "source": [
    "#rfc\n",
    "#undersamping\n",
    "\n",
    "# Use Random Undersampling to undersample the majority class\n",
    "rus = RandomUnderSampler(random_state=42)\n",
    "X_train_resampled, y_train_resampled = rus.fit_resample(X_train, y_train)\n",
    "\n",
    "# Train the model\n",
    "rfc = RandomForestClassifier()\n",
    "rfc.fit(X_train_resampled, y_train_resampled)\n",
    "\n",
    "# Evaluate the model\n",
    "train_accuracy = rfc.score(X_train_resampled, y_train_resampled)\n",
    "test_accuracy = rfc.score(X_test, y_test)\n",
    "print(f'Train accuracy: {train_accuracy:.4f}')\n",
    "print(f'Test accuracy: {test_accuracy:.4f}')\n",
    "\n",
    "# Compute precision on the test set\n",
    "y_pred = rfc.predict(X_test)\n",
    "precision = precision_score(y_test, y_pred)\n",
    "recall= recall_score(y_test, y_pred)\n",
    "print(f'Precision: {precision:.4f}')\n",
    "print(f'recall: {recall:.4f}')\n"
   ]
  },
  {
   "cell_type": "code",
   "execution_count": null,
   "id": "103e7a99",
   "metadata": {},
   "outputs": [],
   "source": [
    "rfc : recall 58"
   ]
  },
  {
   "cell_type": "code",
   "execution_count": null,
   "id": "2e6bf230",
   "metadata": {},
   "outputs": [],
   "source": [
    "while(recall_score(y_test, y_pred)<0.56):\n",
    "    rfc = RandomForestClassifier()\n",
    "    rfc.fit(X_train, y_train)\n",
    "    y_pred = rfc.predict(X_test)\n",
    "recall_score(y_test, y_pred)"
   ]
  },
  {
   "cell_type": "code",
   "execution_count": 95,
   "id": "39848ee1",
   "metadata": {},
   "outputs": [
    {
     "name": "stdout",
     "output_type": "stream",
     "text": [
      "              precision    recall  f1-score   support\n",
      "\n",
      "           0       0.63      0.89      0.74        65\n",
      "           1       0.22      0.06      0.09        36\n",
      "\n",
      "    accuracy                           0.59       101\n",
      "   macro avg       0.43      0.47      0.41       101\n",
      "weighted avg       0.48      0.59      0.51       101\n",
      "\n"
     ]
    }
   ],
   "source": [
    "print(classification_report(y_test, y_pred))"
   ]
  },
  {
   "cell_type": "code",
   "execution_count": 77,
   "id": "4ae697f6",
   "metadata": {},
   "outputs": [
    {
     "data": {
      "text/plain": [
       "['O_recall_58.pkl']"
      ]
     },
     "execution_count": 77,
     "metadata": {},
     "output_type": "execute_result"
    }
   ],
   "source": [
    "import joblib\n",
    "joblib.dump(rfc, 'O_recall_58.pkl')"
   ]
  },
  {
   "cell_type": "code",
   "execution_count": null,
   "id": "fa60d6f2",
   "metadata": {},
   "outputs": [],
   "source": [
    "train_accuracy = rfc.score(X_train_resampled, y_train_resampled)\n",
    "test_accuracy = rfc.score(X_test, y_test)\n",
    "print(f'Train accuracy: {train_accuracy:.4f}')\n",
    "print(f'Test accuracy: {test_accuracy:.4f}')\n",
    "\n",
    "# Compute precision on the test set\n",
    "y_pred = rfc.predict(X_test)\n",
    "precision = precision_score(y_test, y_pred)\n",
    "recall= recall_score(y_test, y_pred)\n",
    "print(f'Precision: {precision:.4f}')\n",
    "print(f'recall: {recall:.4f}')"
   ]
  },
  {
   "cell_type": "code",
   "execution_count": 179,
   "id": "c5c98aa1",
   "metadata": {},
   "outputs": [
    {
     "name": "stdout",
     "output_type": "stream",
     "text": [
      "Train accuracy: 0.6536\n",
      "Test accuracy: 0.6040\n",
      "Precision: 0.4444\n",
      "recall: 0.4444\n"
     ]
    }
   ],
   "source": [
    "#rfc\n",
    "#oversampling+undersampling(smote)\n",
    "\n",
    "# Use SMOTE to oversample the minority class and Random Undersampling to undersample the majority class\n",
    "smote = SMOTE(random_state=42)\n",
    "rus = RandomUnderSampler(random_state=42)\n",
    "X_train_resampled, y_train_resampled = smote.fit_resample(X_train, y_train)\n",
    "X_train_resampled, y_train_resampled = rus.fit_resample(X_train_resampled, y_train_resampled)\n",
    "\n",
    "# Train the model\n",
    "rfc = RandomForestClassifier(random_state=42)\n",
    "rfc.fit(X_train_resampled, y_train_resampled)\n",
    "\n",
    "# Evaluate the model\n",
    "train_accuracy = rfc.score(X_train_resampled, y_train_resampled)\n",
    "test_accuracy = rfc.score(X_test, y_test)\n",
    "print(f'Train accuracy: {train_accuracy:.4f}')\n",
    "print(f'Test accuracy: {test_accuracy:.4f}')\n",
    "\n",
    "# Compute precision on the test set\n",
    "y_pred = rfc.predict(X_test)\n",
    "precision = precision_score(y_test, y_pred)\n",
    "recall= recall_score(y_test, y_pred)\n",
    "print(f'Precision: {precision:.4f}')\n",
    "print(f'recall: {recall:.4f}')\n"
   ]
  },
  {
   "cell_type": "code",
   "execution_count": 64,
   "id": "e8618489",
   "metadata": {},
   "outputs": [
    {
     "name": "stdout",
     "output_type": "stream",
     "text": [
      "Train accuracy: 1.0000\n",
      "Test accuracy: 0.6832\n",
      "Precision: 0.6250\n",
      "recall: 0.2778\n"
     ]
    }
   ],
   "source": [
    "#rfc\n",
    "#oversampling+undersampling(random)\n",
    "\n",
    "\n",
    "# Use SMOTE to oversample the minority class and Random Undersampling to undersample the majority class\n",
    "ros = RandomOverSampler(random_state=42)\n",
    "rus = RandomUnderSampler(random_state=42)\n",
    "X_train_resampled, y_train_resampled = ros.fit_resample(X_train, y_train)\n",
    "X_train_resampled, y_train_resampled = rus.fit_resample(X_train_resampled, y_train_resampled)\n",
    "\n",
    "# Train the model\n",
    "rfc = RandomForestClassifier(random_state=42)\n",
    "rfc.fit(X_train_resampled, y_train_resampled)\n",
    "\n",
    "# Evaluate the model\n",
    "train_accuracy = rfc.score(X_train_resampled, y_train_resampled)\n",
    "test_accuracy = rfc.score(X_test, y_test)\n",
    "print(f'Train accuracy: {train_accuracy:.4f}')\n",
    "print(f'Test accuracy: {test_accuracy:.4f}')\n",
    "\n",
    "# Compute precision on the test set\n",
    "y_pred = rfc.predict(X_test)\n",
    "precision = precision_score(y_test, y_pred)\n",
    "recall= recall_score(y_test, y_pred)\n",
    "print(f'Precision: {precision:.4f}')\n",
    "print(f'recall: {recall:.4f}')\n"
   ]
  },
  {
   "cell_type": "code",
   "execution_count": 201,
   "id": "c0541806",
   "metadata": {},
   "outputs": [],
   "source": [
    "# Define a pipeline that consists of Kernel PCA and RFC\n",
    "pipe = make_pipeline(\n",
    "    RandomForestClassifier(random_state=42)\n",
    ")\n",
    "\n",
    "# Define the hyperparameters to search over\n",
    "param_grid = {\n",
    "    'randomforestclassifier__n_estimators': [75, 100, 200],\n",
    "    'randomforestclassifier__max_depth': [None, 10, 15],\n",
    "    'randomforestclassifier__max_features': ['auto','sqrt', 'log2'],\n",
    "}\n",
    "\n",
    "# Instantiate GridSearchCV\n",
    "scorer = make_scorer(recall_score)\n",
    "\n",
    "grid_search = GridSearchCV(\n",
    "    pipe,\n",
    "    param_grid=param_grid,\n",
    "    cv=5,\n",
    "    n_jobs=-1,\n",
    "    scoring=scorer\n",
    ")\n",
    "\n",
    "# Fit the grid search object to the training data\n",
    "grid_search.fit(X_train_resampled, y_train_resampled)\n",
    "\n",
    "# Extract the best set of hyperparameters and the corresponding accuracy score\n",
    "best_params = grid_search.best_params_\n",
    "best_score = grid_search.best_score_"
   ]
  },
  {
   "cell_type": "code",
   "execution_count": 203,
   "id": "ba05597e",
   "metadata": {},
   "outputs": [
    {
     "data": {
      "text/plain": [
       "0.9248977206312098"
      ]
     },
     "execution_count": 203,
     "metadata": {},
     "output_type": "execute_result"
    }
   ],
   "source": [
    "best_score"
   ]
  },
  {
   "cell_type": "code",
   "execution_count": 206,
   "id": "2fb79c91",
   "metadata": {},
   "outputs": [
    {
     "ename": "AttributeError",
     "evalue": "'RandomForestClassifier' object has no attribute 'decision_function'",
     "output_type": "error",
     "traceback": [
      "\u001b[1;31m---------------------------------------------------------------------------\u001b[0m",
      "\u001b[1;31mAttributeError\u001b[0m                            Traceback (most recent call last)",
      "\u001b[1;32m~\\AppData\\Local\\Temp\\ipykernel_5452\\1433625965.py\u001b[0m in \u001b[0;36m<module>\u001b[1;34m\u001b[0m\n\u001b[1;32m----> 1\u001b[1;33m \u001b[0mgrid_search\u001b[0m\u001b[1;33m.\u001b[0m\u001b[0mdecision_function\u001b[0m\u001b[1;33m(\u001b[0m\u001b[1;33m)\u001b[0m\u001b[1;33m\u001b[0m\u001b[1;33m\u001b[0m\u001b[0m\n\u001b[0m",
      "\u001b[1;32m~\\anaconda3\\lib\\site-packages\\sklearn\\utils\\metaestimators.py\u001b[0m in \u001b[0;36m__get__\u001b[1;34m(self, obj, owner)\u001b[0m\n\u001b[0;32m    107\u001b[0m             \u001b[1;31m# delegate only on instances, not the classes.\u001b[0m\u001b[1;33m\u001b[0m\u001b[1;33m\u001b[0m\u001b[0m\n\u001b[0;32m    108\u001b[0m             \u001b[1;31m# this is to allow access to the docstrings.\u001b[0m\u001b[1;33m\u001b[0m\u001b[1;33m\u001b[0m\u001b[0m\n\u001b[1;32m--> 109\u001b[1;33m             \u001b[1;32mif\u001b[0m \u001b[1;32mnot\u001b[0m \u001b[0mself\u001b[0m\u001b[1;33m.\u001b[0m\u001b[0mcheck\u001b[0m\u001b[1;33m(\u001b[0m\u001b[0mobj\u001b[0m\u001b[1;33m)\u001b[0m\u001b[1;33m:\u001b[0m\u001b[1;33m\u001b[0m\u001b[1;33m\u001b[0m\u001b[0m\n\u001b[0m\u001b[0;32m    110\u001b[0m                 \u001b[1;32mraise\u001b[0m \u001b[0mattr_err\u001b[0m\u001b[1;33m\u001b[0m\u001b[1;33m\u001b[0m\u001b[0m\n\u001b[0;32m    111\u001b[0m \u001b[1;33m\u001b[0m\u001b[0m\n",
      "\u001b[1;32m~\\anaconda3\\lib\\site-packages\\sklearn\\model_selection\\_search.py\u001b[0m in \u001b[0;36mcheck\u001b[1;34m(self)\u001b[0m\n\u001b[0;32m    371\u001b[0m         \u001b[1;32mif\u001b[0m \u001b[0mhasattr\u001b[0m\u001b[1;33m(\u001b[0m\u001b[0mself\u001b[0m\u001b[1;33m,\u001b[0m \u001b[1;34m\"best_estimator_\"\u001b[0m\u001b[1;33m)\u001b[0m\u001b[1;33m:\u001b[0m\u001b[1;33m\u001b[0m\u001b[1;33m\u001b[0m\u001b[0m\n\u001b[0;32m    372\u001b[0m             \u001b[1;31m# raise an AttributeError if `attr` does not exist\u001b[0m\u001b[1;33m\u001b[0m\u001b[1;33m\u001b[0m\u001b[0m\n\u001b[1;32m--> 373\u001b[1;33m             \u001b[0mgetattr\u001b[0m\u001b[1;33m(\u001b[0m\u001b[0mself\u001b[0m\u001b[1;33m.\u001b[0m\u001b[0mbest_estimator_\u001b[0m\u001b[1;33m,\u001b[0m \u001b[0mattr\u001b[0m\u001b[1;33m)\u001b[0m\u001b[1;33m\u001b[0m\u001b[1;33m\u001b[0m\u001b[0m\n\u001b[0m\u001b[0;32m    374\u001b[0m             \u001b[1;32mreturn\u001b[0m \u001b[1;32mTrue\u001b[0m\u001b[1;33m\u001b[0m\u001b[1;33m\u001b[0m\u001b[0m\n\u001b[0;32m    375\u001b[0m         \u001b[1;31m# raise an AttributeError if `attr` does not exist\u001b[0m\u001b[1;33m\u001b[0m\u001b[1;33m\u001b[0m\u001b[0m\n",
      "\u001b[1;32m~\\anaconda3\\lib\\site-packages\\sklearn\\utils\\metaestimators.py\u001b[0m in \u001b[0;36m__get__\u001b[1;34m(self, obj, owner)\u001b[0m\n\u001b[0;32m    107\u001b[0m             \u001b[1;31m# delegate only on instances, not the classes.\u001b[0m\u001b[1;33m\u001b[0m\u001b[1;33m\u001b[0m\u001b[0m\n\u001b[0;32m    108\u001b[0m             \u001b[1;31m# this is to allow access to the docstrings.\u001b[0m\u001b[1;33m\u001b[0m\u001b[1;33m\u001b[0m\u001b[0m\n\u001b[1;32m--> 109\u001b[1;33m             \u001b[1;32mif\u001b[0m \u001b[1;32mnot\u001b[0m \u001b[0mself\u001b[0m\u001b[1;33m.\u001b[0m\u001b[0mcheck\u001b[0m\u001b[1;33m(\u001b[0m\u001b[0mobj\u001b[0m\u001b[1;33m)\u001b[0m\u001b[1;33m:\u001b[0m\u001b[1;33m\u001b[0m\u001b[1;33m\u001b[0m\u001b[0m\n\u001b[0m\u001b[0;32m    110\u001b[0m                 \u001b[1;32mraise\u001b[0m \u001b[0mattr_err\u001b[0m\u001b[1;33m\u001b[0m\u001b[1;33m\u001b[0m\u001b[0m\n\u001b[0;32m    111\u001b[0m \u001b[1;33m\u001b[0m\u001b[0m\n",
      "\u001b[1;32m~\\anaconda3\\lib\\site-packages\\sklearn\\pipeline.py\u001b[0m in \u001b[0;36mcheck\u001b[1;34m(self)\u001b[0m\n\u001b[0;32m     43\u001b[0m     \u001b[1;32mdef\u001b[0m \u001b[0mcheck\u001b[0m\u001b[1;33m(\u001b[0m\u001b[0mself\u001b[0m\u001b[1;33m)\u001b[0m\u001b[1;33m:\u001b[0m\u001b[1;33m\u001b[0m\u001b[1;33m\u001b[0m\u001b[0m\n\u001b[0;32m     44\u001b[0m         \u001b[1;31m# raise original `AttributeError` if `attr` does not exist\u001b[0m\u001b[1;33m\u001b[0m\u001b[1;33m\u001b[0m\u001b[0m\n\u001b[1;32m---> 45\u001b[1;33m         \u001b[0mgetattr\u001b[0m\u001b[1;33m(\u001b[0m\u001b[0mself\u001b[0m\u001b[1;33m.\u001b[0m\u001b[0m_final_estimator\u001b[0m\u001b[1;33m,\u001b[0m \u001b[0mattr\u001b[0m\u001b[1;33m)\u001b[0m\u001b[1;33m\u001b[0m\u001b[1;33m\u001b[0m\u001b[0m\n\u001b[0m\u001b[0;32m     46\u001b[0m         \u001b[1;32mreturn\u001b[0m \u001b[1;32mTrue\u001b[0m\u001b[1;33m\u001b[0m\u001b[1;33m\u001b[0m\u001b[0m\n\u001b[0;32m     47\u001b[0m \u001b[1;33m\u001b[0m\u001b[0m\n",
      "\u001b[1;31mAttributeError\u001b[0m: 'RandomForestClassifier' object has no attribute 'decision_function'"
     ]
    }
   ],
   "source": [
    "grid_search."
   ]
  },
  {
   "cell_type": "code",
   "execution_count": 199,
   "id": "936ff441",
   "metadata": {},
   "outputs": [
    {
     "name": "stdout",
     "output_type": "stream",
     "text": [
      "Train accuracy: 0.8720\n",
      "Test accuracy: 0.6733\n",
      "Precision: 0.5517\n",
      "recall: 0.4444\n"
     ]
    }
   ],
   "source": [
    "\n",
    "# Train the model\n",
    "rfc = RandomForestClassifier(random_state=42,n_estimators=best_params['randomforestclassifier__n_estimators'],max_depth=best_params['randomforestclassifier__max_depth'],max_features=best_params['randomforestclassifier__max_features'])\n",
    "rfc.fit(X_train_resampled, y_train_resampled)\n",
    "\n",
    "# Evaluate the model\n",
    "train_accuracy = rfc.score(X_train_resampled, y_train_resampled)\n",
    "test_accuracy = rfc.score(X_test, y_test)\n",
    "print(f'Train accuracy: {train_accuracy:.4f}')\n",
    "print(f'Test accuracy: {test_accuracy:.4f}')\n",
    "\n",
    "# Compute precision on the test set\n",
    "y_pred = rfc.predict(X_test)\n",
    "precision = precision_score(y_test, y_pred)\n",
    "recall= recall_score(y_test, y_pred)\n",
    "print(f'Precision: {precision:.4f}')\n",
    "print(f'recall: {recall:.4f}')"
   ]
  },
  {
   "cell_type": "code",
   "execution_count": 200,
   "id": "33b264a8",
   "metadata": {},
   "outputs": [
    {
     "name": "stdout",
     "output_type": "stream",
     "text": [
      "              precision    recall  f1-score   support\n",
      "\n",
      "           0       0.72      0.80      0.76        65\n",
      "           1       0.55      0.44      0.49        36\n",
      "\n",
      "    accuracy                           0.67       101\n",
      "   macro avg       0.64      0.62      0.63       101\n",
      "weighted avg       0.66      0.67      0.66       101\n",
      "\n"
     ]
    }
   ],
   "source": [
    "print(classification_report(y_test,y_pred))"
   ]
  },
  {
   "cell_type": "code",
   "execution_count": 77,
   "id": "8c96e44e",
   "metadata": {},
   "outputs": [
    {
     "name": "stdout",
     "output_type": "stream",
     "text": [
      "Train accuracy: 0.9895\n",
      "Test accuracy: 0.6765\n",
      "Precision: 0.0000\n",
      "recall: 0.0000\n"
     ]
    }
   ],
   "source": [
    "\n",
    "# Use SMOTE to oversample the minority class and Random Undersampling to undersample the majority class\n",
    "ros = RandomOverSampler(random_state=42)\n",
    "rus = RandomUnderSampler(random_state=42)\n",
    "X_train_resampled, y_train_resampled = ros.fit_resample(X_train, y_train)\n",
    "X_train_resampled, y_train_resampled = rus.fit_resample(X_train_resampled, y_train_resampled)\n",
    "\n",
    "# Use PCA\n",
    "pca=LatentDirichletAllocation(500,random_state=42)\n",
    "X_train_resampled=pca.fit_transform(X_train_resampled)\n",
    "X_test=pca.transform(X_test)\n",
    "\n",
    "# Train the model\n",
    "rfc = RandomForestClassifier(random_state=42)\n",
    "rfc.fit(X_train_resampled, y_train_resampled)\n",
    "\n",
    "# Evaluate the model\n",
    "train_accuracy = rfc.score(X_train_resampled, y_train_resampled)\n",
    "test_accuracy = rfc.score(X_test, y_test)\n",
    "print(f'Train accuracy: {train_accuracy:.4f}')\n",
    "print(f'Test accuracy: {test_accuracy:.4f}')\n",
    "\n",
    "# Compute precision on the test set\n",
    "y_pred = rfc.predict(X_test)\n",
    "precision = precision_score(y_test, y_pred)\n",
    "recall= recall_score(y_test, y_pred)\n",
    "print(f'Precision: {precision:.4f}')\n",
    "print(f'recall: {recall:.4f}')"
   ]
  },
  {
   "cell_type": "code",
   "execution_count": 150,
   "id": "ae22f6c3",
   "metadata": {
    "scrolled": false
   },
   "outputs": [],
   "source": [
    "import numpy as np\n",
    "import pandas as pd\n",
    "from sklearn.datasets import make_classification\n",
    "from sklearn.decomposition import KernelPCA\n",
    "from sklearn.ensemble import RandomForestClassifier\n",
    "from sklearn.metrics import accuracy_score\n",
    "from sklearn.model_selection import GridSearchCV, train_test_split\n",
    "from sklearn.pipeline import make_pipeline\n",
    "from sklearn.metrics import precision_score, make_scorer\n",
    "\n",
    "X_train, X_test, y_train, y_test = train_test_split(df['tweets_text'], df['o'], test_size=0.2)\n",
    "# Tokenize the tweets_text column\n",
    "vectorizer = CountVectorizer()\n",
    "X_train = vectorizer.fit_transform(X_train)\n",
    "X_test = vectorizer.transform(X_test)\n",
    "\n",
    "# Define a pipeline that consists of Kernel PCA and RFC\n",
    "pipe = make_pipeline(\n",
    "    KernelPCA(),\n",
    "    RandomForestClassifier(random_state=42)\n",
    ")\n",
    "\n",
    "# Define the hyperparameters to search over\n",
    "param_grid = {\n",
    "    'kernelpca__kernel': ['rbf'],\n",
    "    'kernelpca__n_components': [500],\n",
    "    'randomforestclassifier__n_estimators': [50, 100, 200],\n",
    "    'randomforestclassifier__max_depth': [5, 10, 15],\n",
    "    'randomforestclassifier__max_features': ['sqrt', 'log2'],\n",
    "}\n",
    "\n",
    "# Instantiate GridSearchCV\n",
    "scorer = make_scorer(recall_score, pos_label=1)\n",
    "\n",
    "grid_search = GridSearchCV(\n",
    "    pipe,\n",
    "    param_grid=param_grid,\n",
    "    cv=5,\n",
    "    n_jobs=-1,\n",
    "    scoring=scorer\n",
    ")\n",
    "\n",
    "# Fit the grid search object to the training data\n",
    "grid_search.fit(X_train, y_train)\n",
    "\n",
    "# Extract the best set of hyperparameters and the corresponding accuracy score\n",
    "best_params = grid_search.best_params_\n",
    "best_score = grid_search.best_score_"
   ]
  },
  {
   "cell_type": "code",
   "execution_count": 87,
   "id": "3465d775",
   "metadata": {},
   "outputs": [
    {
     "name": "stdout",
     "output_type": "stream",
     "text": [
      "Train accuracy: 1.0000\n",
      "Test accuracy: 0.4455\n",
      "Precision: 0.2368\n"
     ]
    }
   ],
   "source": [
    "#rfc\n",
    "#pca\n",
    "\n",
    "# Apply PCA for dimensionality reduction\n",
    "kpca = KernelPCA(n_components=500)\n",
    "X_train = kpca.fit_transform(X_train)\n",
    "X_test = kpca.transform(X_test)\n",
    "\n",
    "# Train the model\n",
    "rfc = RandomForestClassifier()\n",
    "rfc.fit(X_train, y_train)\n",
    "# Evaluate the model\n",
    "train_accuracy = rfc.score(X_train, y_train)\n",
    "test_accuracy = rfc.score(X_test, y_test)\n",
    "print(f'Train accuracy: {train_accuracy:.4f}')\n",
    "print(f'Test accuracy: {test_accuracy:.4f}')\n",
    "# Compute precision on the test set\n",
    "y_pred = rfc.predict(X_test)\n",
    "precision = precision_score(y_test, y_pred)\n",
    "print(f'Precision: {precision:.4f}')"
   ]
  },
  {
   "cell_type": "code",
   "execution_count": 88,
   "id": "dd75af3b",
   "metadata": {},
   "outputs": [
    {
     "name": "stdout",
     "output_type": "stream",
     "text": [
      "Train accuracy: 1.0000\n",
      "Test accuracy: 0.6535\n",
      "Precision: 0.0278\n"
     ]
    }
   ],
   "source": [
    "#rfc\n",
    "#pca\n",
    "\n",
    "# Apply PCA for dimensionality reduction\n",
    "kpca = KernelPCA(n_components=500, kernel='rbf')\n",
    "X_train = kpca.fit_transform(X_train)\n",
    "X_test = kpca.transform(X_test)\n",
    "\n",
    "# Train the model\n",
    "rfc = RandomForestClassifier()\n",
    "rfc.fit(X_train, y_train)\n",
    "\n",
    "# Evaluate the model\n",
    "train_accuracy = rfc.score(X_train, y_train)\n",
    "test_accuracy = rfc.score(X_test, y_test)\n",
    "print(f'Train accuracy: {train_accuracy:.4f}')\n",
    "print(f'Test accuracy: {test_accuracy:.4f}')\n",
    "\n",
    "# Compute precision on the test set\n",
    "y_pred = rfc.predict(X_test)\n",
    "precision = recall_score(y_test, y_pred)\n",
    "print(f'Precision: {precision:.4f}')"
   ]
  },
  {
   "cell_type": "code",
   "execution_count": 164,
   "id": "fc6daf4f",
   "metadata": {},
   "outputs": [],
   "source": [
    "#RNN\n",
    "\n",
    "\n",
    "# Tokenize the tweets_text column\n",
    "tokenizer = Tokenizer()\n",
    "tokenizer.fit_on_texts(df['tweets_text'])\n",
    "X = tokenizer.texts_to_sequences(df['tweets_text'])\n",
    "X = pad_sequences(X)\n",
    "\n",
    "# Split the data into training, validation, and test sets\n",
    "X_train, X_test, y_train, y_test = train_test_split(X, df[['o', 'c', 'e', 'a', 'n']], test_size=0.15)\n",
    "X_train, X_val, y_train, y_val = train_test_split(X_train, y_train, test_size=0.15)\n",
    "\n"
   ]
  },
  {
   "cell_type": "code",
   "execution_count": null,
   "id": "99e3959a",
   "metadata": {},
   "outputs": [
    {
     "name": "stdout",
     "output_type": "stream",
     "text": [
      "Epoch 1/10\n",
      " 9/12 [=====================>........] - ETA: 14:13 - loss: 0.6881 - accuracy: 0.2396"
     ]
    }
   ],
   "source": [
    "# Define the model architecture\n",
    "model = Sequential()\n",
    "model.add(Embedding(input_dim=len(tokenizer.word_index)+1, output_dim=128, input_length=X.shape[1]))\n",
    "model.add(LSTM(units=64, dropout=0.2, recurrent_dropout=0.2))\n",
    "model.add(Dense(5, activation='sigmoid'))\n",
    "\n",
    "# Compile the model\n",
    "model.compile(loss='binary_crossentropy', optimizer='adam', metrics=['accuracy'])\n",
    "\n",
    "# Train the model\n",
    "model.fit(X_train, y_train, batch_size=32, epochs=10, validation_data=(X_val, y_val))\n",
    "\n",
    "# Evaluate the model\n",
    "loss, accuracy = model.evaluate(X_val, y_val, verbose=False)\n",
    "print(f'Validation accuracy: {accuracy:.4f}')\n",
    "\n",
    "# Test the model\n",
    "loss, accuracy = model.evaluate(X_test, y_test, verbose=False)\n",
    "print(f'Test accuracy: {accuracy:.4f}')\n"
   ]
  },
  {
   "cell_type": "code",
   "execution_count": null,
   "id": "9ddf1cf7",
   "metadata": {},
   "outputs": [],
   "source": []
  }
 ],
 "metadata": {
  "kernelspec": {
   "display_name": "Python 3 (ipykernel)",
   "language": "python",
   "name": "python3"
  },
  "language_info": {
   "codemirror_mode": {
    "name": "ipython",
    "version": 3
   },
   "file_extension": ".py",
   "mimetype": "text/x-python",
   "name": "python",
   "nbconvert_exporter": "python",
   "pygments_lexer": "ipython3",
   "version": "3.9.13"
  }
 },
 "nbformat": 4,
 "nbformat_minor": 5
}
