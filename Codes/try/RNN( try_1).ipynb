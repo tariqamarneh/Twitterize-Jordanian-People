{
 "cells": [
  {
   "cell_type": "code",
   "execution_count": 9,
   "id": "2ae7f3bf",
   "metadata": {},
   "outputs": [],
   "source": [
    "import pandas as pd\n",
    "from sklearn.model_selection import train_test_split\n",
    "from tensorflow.keras.preprocessing.text import Tokenizer\n",
    "from tensorflow.keras.preprocessing.sequence import pad_sequences\n",
    "from keras.models import Sequential\n",
    "from keras.layers import Embedding, LSTM, Dense, Dropout\n",
    "from keras.optimizers import Adam"
   ]
  },
  {
   "cell_type": "code",
   "execution_count": 10,
   "id": "8a64301f",
   "metadata": {},
   "outputs": [],
   "source": [
    "# Load the dataset\n",
    "df=pd.read_csv(r\"C:\\Users\\tareq\\Desktop\\p2\\Data\\cleaned.csv\")\n",
    "label= pd.read_excel(r\"C:\\Users\\tareq\\Desktop\\p2\\Data\\Labeled.csv\")\n",
    "df2_cols = df.columns.tolist()\n",
    "df2_cols.remove('Username')\n",
    "df2 = df[['Username'] + df2_cols]\n",
    "# Merge the two dataframes on the 'username' column\n",
    "result = pd.merge(label, df2, on='Username', how='left')\n",
    "all=[]\n",
    "for i in range(len(result)): \n",
    "    label=[]\n",
    "    label.append(int(result['Label'][i].split()[0][1]))\n",
    "    label.append(int(result['Label'][i].split()[1]))\n",
    "    label.append(int(result['Label'][i].split()[2]))\n",
    "    label.append(int(result['Label'][i].split()[3]))\n",
    "    label.append(int(result['Label'][i].split()[4][0]))\n",
    "    all.append(label)\n",
    "result['LABEL']=all\n",
    "result.drop('Label',axis=1,inplace=True)\n",
    "df=result.copy()\n",
    "df['OpennesS']=[x[0] for x in df['LABEL']]\n",
    "df['ConscientiousnesS']=[x[1] for x in df['LABEL']]\n",
    "df['ExtraversioN']=[x[2] for x in df['LABEL']]\n",
    "df['AgreeablenesS']=[x[3] for x in df['LABEL']]\n",
    "df['NeuroticisM']=[x[4] for x in df['LABEL']]\n",
    "df.drop(['Username','LABEL'],axis=1,inplace=True)"
   ]
  },
  {
   "cell_type": "code",
   "execution_count": 44,
   "id": "d0d7e8ac",
   "metadata": {},
   "outputs": [
    {
     "name": "stdout",
     "output_type": "stream",
     "text": [
      "Model: \"sequential_11\"\n",
      "_________________________________________________________________\n",
      " Layer (type)                Output Shape              Param #   \n",
      "=================================================================\n",
      " embedding_11 (Embedding)    (None, 200, 128)          640000    \n",
      "                                                                 \n",
      " lstm_11 (LSTM)              (None, 128)               131584    \n",
      "                                                                 \n",
      " dropout_11 (Dropout)        (None, 128)               0         \n",
      "                                                                 \n",
      " dense_22 (Dense)            (None, 64)                8256      \n",
      "                                                                 \n",
      " dense_23 (Dense)            (None, 1)                 65        \n",
      "                                                                 \n",
      "=================================================================\n",
      "Total params: 779,905\n",
      "Trainable params: 779,905\n",
      "Non-trainable params: 0\n",
      "_________________________________________________________________\n",
      "Epoch 1/10\n",
      "12/12 [==============================] - 6s 279ms/step - loss: 0.6760 - accuracy: 0.6649 - val_loss: 0.6280 - val_accuracy: 0.6744\n",
      "Epoch 2/10\n",
      "12/12 [==============================] - 3s 230ms/step - loss: 0.5858 - accuracy: 0.7098 - val_loss: 0.6265 - val_accuracy: 0.6744\n",
      "Epoch 3/10\n",
      "12/12 [==============================] - 3s 239ms/step - loss: 0.5266 - accuracy: 0.7467 - val_loss: 0.6473 - val_accuracy: 0.6512\n",
      "Epoch 4/10\n",
      "12/12 [==============================] - 3s 231ms/step - loss: 0.3983 - accuracy: 0.8892 - val_loss: 0.8771 - val_accuracy: 0.6047\n",
      "Epoch 5/10\n",
      "12/12 [==============================] - 3s 244ms/step - loss: 0.1456 - accuracy: 0.9631 - val_loss: 1.3433 - val_accuracy: 0.6744\n",
      "Epoch 6/10\n",
      "12/12 [==============================] - 3s 242ms/step - loss: 0.0641 - accuracy: 0.9815 - val_loss: 1.0971 - val_accuracy: 0.5814\n",
      "Epoch 7/10\n",
      "12/12 [==============================] - 3s 273ms/step - loss: 0.0201 - accuracy: 0.9974 - val_loss: 1.6829 - val_accuracy: 0.6279\n",
      "Epoch 8/10\n",
      "12/12 [==============================] - 3s 265ms/step - loss: 0.0171 - accuracy: 1.0000 - val_loss: 1.4451 - val_accuracy: 0.6512\n",
      "Epoch 9/10\n",
      "12/12 [==============================] - 3s 280ms/step - loss: 0.0144 - accuracy: 0.9974 - val_loss: 1.6883 - val_accuracy: 0.5814\n",
      "Epoch 10/10\n",
      "12/12 [==============================] - 3s 267ms/step - loss: 0.0020 - accuracy: 1.0000 - val_loss: 2.1160 - val_accuracy: 0.5814\n",
      "4/4 [==============================] - 0s 81ms/step - loss: 1.6213 - accuracy: 0.6981\n",
      "Test loss: 1.6212866306304932, Test accuracy: 0.698113203048706\n"
     ]
    }
   ],
   "source": [
    "# Preprocess the text data\n",
    "tokenizer = Tokenizer(num_words=5000, lower=False,filters='#$%&()*+-<=>@[\\\\]^_`{|}~\\t\\n',split = ' ')\n",
    "tokenizer.fit_on_texts(df[\"Tweet\"])\n",
    "sequences = tokenizer.texts_to_sequences(df[\"Tweet\"])\n",
    "X = pad_sequences(sequences, maxlen=200)\n",
    "\n",
    "# Split the data into training and testing sets\n",
    "y = df[\"OpennesS\"]\n",
    "X_train, X_test, y_train, y_test = train_test_split(X, y, test_size=0.2, random_state=42)\n",
    "\n",
    "# Define the RNN architecture\n",
    "model = Sequential()\n",
    "model.add(Embedding(input_dim=5000, output_dim=128, input_length=200))\n",
    "model.add(LSTM(128))\n",
    "model.add(Dropout(0.2))\n",
    "model.add(Dense(64, activation=\"relu\"))\n",
    "model.add(Dense(1, activation=\"sigmoid\"))\n",
    "model.summary()\n",
    "\n",
    "# Compile the model\n",
    "optimizer = Adam(learning_rate=0.001)\n",
    "model.compile(loss=\"binary_crossentropy\", optimizer=optimizer, metrics=[\"accuracy\"])\n",
    "\n",
    "# Train the model\n",
    "model.fit(X_train, y_train, epochs=10, batch_size=32, validation_split=0.1)\n",
    "\n",
    "# Evaluate the model\n",
    "loss, accuracy = model.evaluate(X_test, y_test)\n",
    "print(f\"Test loss: {loss}, Test accuracy: {accuracy}\")\n",
    "\n",
    "# Tune hyperparameters\n",
    "# You can use techniques like grid search or random search to find the best combination of hyperparameters\n",
    "\n",
    "# Deploy the model\n",
    "# Once you are satisfied with the performance of the RNN, you can deploy it to make predictions on new data"
   ]
  },
  {
   "cell_type": "code",
   "execution_count": 45,
   "id": "f7172f51",
   "metadata": {},
   "outputs": [
    {
     "name": "stderr",
     "output_type": "stream",
     "text": [
      "C:\\Users\\tareq\\AppData\\Local\\Temp\\ipykernel_1248\\537344514.py:14: DeprecationWarning: KerasClassifier is deprecated, use Sci-Keras (https://github.com/adriangb/scikeras) instead. See https://www.adriangb.com/scikeras/stable/migration.html for help migrating.\n",
      "  model = KerasClassifier(build_fn=create_model, epochs=10, batch_size=32, verbose=0)\n",
      "C:\\Users\\tareq\\anaconda3\\lib\\site-packages\\keras\\optimizers\\optimizer_v2\\adam.py:117: UserWarning: The `lr` argument is deprecated, use `learning_rate` instead.\n",
      "  super().__init__(name, **kwargs)\n"
     ]
    },
    {
     "name": "stdout",
     "output_type": "stream",
     "text": [
      "Best parameters: {'dropout_rate': 0.4, 'embedding_size': 256, 'learning_rate': 0.001, 'num_units': 32}\n"
     ]
    },
    {
     "ename": "AttributeError",
     "evalue": "'KerasClassifier' object has no attribute 'evaluate'",
     "output_type": "error",
     "traceback": [
      "\u001b[1;31m---------------------------------------------------------------------------\u001b[0m",
      "\u001b[1;31mAttributeError\u001b[0m                            Traceback (most recent call last)",
      "\u001b[1;32m~\\AppData\\Local\\Temp\\ipykernel_1248\\537344514.py\u001b[0m in \u001b[0;36m<module>\u001b[1;34m\u001b[0m\n\u001b[0;32m     28\u001b[0m \u001b[1;33m\u001b[0m\u001b[0m\n\u001b[0;32m     29\u001b[0m \u001b[0mbest_model\u001b[0m \u001b[1;33m=\u001b[0m \u001b[0mgrid_result\u001b[0m\u001b[1;33m.\u001b[0m\u001b[0mbest_estimator_\u001b[0m\u001b[1;33m\u001b[0m\u001b[1;33m\u001b[0m\u001b[0m\n\u001b[1;32m---> 30\u001b[1;33m \u001b[0mloss\u001b[0m\u001b[1;33m,\u001b[0m \u001b[0maccuracy\u001b[0m \u001b[1;33m=\u001b[0m \u001b[0mbest_model\u001b[0m\u001b[1;33m.\u001b[0m\u001b[0mevaluate\u001b[0m\u001b[1;33m(\u001b[0m\u001b[0mX_test\u001b[0m\u001b[1;33m,\u001b[0m \u001b[0my_test\u001b[0m\u001b[1;33m)\u001b[0m\u001b[1;33m\u001b[0m\u001b[1;33m\u001b[0m\u001b[0m\n\u001b[0m\u001b[0;32m     31\u001b[0m \u001b[0mprint\u001b[0m\u001b[1;33m(\u001b[0m\u001b[1;34mf\"Test loss: {loss}, Test accuracy: {accuracy}\"\u001b[0m\u001b[1;33m)\u001b[0m\u001b[1;33m\u001b[0m\u001b[1;33m\u001b[0m\u001b[0m\n",
      "\u001b[1;31mAttributeError\u001b[0m: 'KerasClassifier' object has no attribute 'evaluate'"
     ]
    }
   ],
   "source": [
    "from keras.wrappers.scikit_learn import KerasClassifier\n",
    "from sklearn.model_selection import GridSearchCV\n",
    "\n",
    "def create_model(num_units=64, embedding_size=128, dropout_rate=0.2, learning_rate=0.001):\n",
    "    model = Sequential()\n",
    "    model.add(Embedding(input_dim=5000, output_dim=embedding_size, input_length=200))\n",
    "    model.add(LSTM(num_units))\n",
    "    model.add(Dropout(dropout_rate))\n",
    "    model.add(Dense(1, activation=\"sigmoid\"))\n",
    "    optimizer = Adam(lr=learning_rate)\n",
    "    model.compile(loss=\"binary_crossentropy\", optimizer=optimizer, metrics=[\"accuracy\"])\n",
    "    return model\n",
    "\n",
    "model = KerasClassifier(build_fn=create_model, epochs=10, batch_size=32, verbose=0)\n",
    "\n",
    "param_grid = {\n",
    "    \"num_units\": [32, 64, 128],\n",
    "    \"embedding_size\": [64, 128, 256],\n",
    "    \"dropout_rate\": [0.2, 0.3, 0.4],\n",
    "    \"learning_rate\": [0.001, 0.01, 0.1]\n",
    "}\n",
    "\n",
    "grid = GridSearchCV(estimator=model, param_grid=param_grid, cv=3, n_jobs=-1)\n",
    "\n",
    "grid_result = grid.fit(X_train, y_train)\n",
    "\n",
    "print(f\"Best parameters: {grid_result.best_params_}\")\n",
    "\n",
    "best_model = grid_result.best_estimator_\n",
    "loss, accuracy = best_model.evaluate(X_test, y_test)\n",
    "print(f\"Test loss: {loss}, Test accuracy: {accuracy}\")"
   ]
  },
  {
   "cell_type": "code",
   "execution_count": 118,
   "id": "f020c576",
   "metadata": {},
   "outputs": [
    {
     "name": "stdout",
     "output_type": "stream",
     "text": [
      "Epoch 1/10\n",
      "14/14 [==============================] - 5s 206ms/step - loss: 0.6620 - true_positives: 12.0000 - val_loss: 0.6135 - val_true_positives: 0.0000e+00\n",
      "Epoch 2/10\n",
      "14/14 [==============================] - 2s 128ms/step - loss: 0.5773 - true_positives: 0.0000e+00 - val_loss: 0.5786 - val_true_positives: 0.0000e+00\n",
      "Epoch 3/10\n",
      "14/14 [==============================] - 2s 130ms/step - loss: 0.4885 - true_positives: 9.0000 - val_loss: 0.5782 - val_true_positives: 0.0000e+00\n",
      "Epoch 4/10\n",
      "14/14 [==============================] - 2s 132ms/step - loss: 0.3456 - true_positives: 63.0000 - val_loss: 0.6372 - val_true_positives: 4.0000\n",
      "Epoch 5/10\n",
      "14/14 [==============================] - 2s 138ms/step - loss: 0.1690 - true_positives: 118.0000 - val_loss: 0.8364 - val_true_positives: 7.0000\n",
      "Epoch 6/10\n",
      "14/14 [==============================] - 2s 140ms/step - loss: 0.1082 - true_positives: 121.0000 - val_loss: 1.2208 - val_true_positives: 1.0000\n",
      "Epoch 7/10\n",
      "14/14 [==============================] - 2s 139ms/step - loss: 0.0683 - true_positives: 123.0000 - val_loss: 1.0530 - val_true_positives: 5.0000\n",
      "Epoch 8/10\n",
      "14/14 [==============================] - 2s 141ms/step - loss: 0.0460 - true_positives: 124.0000 - val_loss: 0.9702 - val_true_positives: 10.0000\n",
      "Epoch 9/10\n",
      "14/14 [==============================] - 2s 138ms/step - loss: 0.0369 - true_positives: 124.0000 - val_loss: 1.0944 - val_true_positives: 8.0000\n",
      "Epoch 10/10\n",
      "14/14 [==============================] - 2s 143ms/step - loss: 0.0262 - true_positives: 124.0000 - val_loss: 1.1167 - val_true_positives: 10.0000\n"
     ]
    },
    {
     "data": {
      "text/plain": [
       "<keras.callbacks.History at 0x11f14279340>"
      ]
     },
     "execution_count": 118,
     "metadata": {},
     "output_type": "execute_result"
    }
   ],
   "source": [
    "model = Sequential()\n",
    "model.add(Embedding(input_dim=5000, output_dim=256, input_length=200))\n",
    "model.add(LSTM(32))\n",
    "model.add(Dropout(0.4))\n",
    "model.add(Dense(1, activation=\"sigmoid\"))\n",
    "optimizer = Adam(learning_rate=0.001)\n",
    "model.compile(loss=\"binary_crossentropy\", optimizer=optimizer, metrics=[\"TruePositives\"])\n",
    "model.fit(X_train, y_train, epochs=10, batch_size=32,validation_data=(X_test,y_test))"
   ]
  },
  {
   "cell_type": "code",
   "execution_count": 102,
   "id": "ac2a6b47",
   "metadata": {},
   "outputs": [
    {
     "name": "stdout",
     "output_type": "stream",
     "text": [
      "4/4 [==============================] - 0s 29ms/step\n"
     ]
    }
   ],
   "source": [
    "y_pred=model.predict(X_test)"
   ]
  },
  {
   "cell_type": "code",
   "execution_count": 122,
   "id": "6e9e9c46",
   "metadata": {},
   "outputs": [],
   "source": [
    "import tensorflow as tf\n",
    "from tensorflow import keras\n",
    "\n",
    "import os\n",
    "import tempfile\n",
    "\n",
    "import matplotlib as mpl\n",
    "import matplotlib.pyplot as plt\n",
    "import numpy as np\n",
    "import pandas as pd\n",
    "import seaborn as sns\n",
    "\n",
    "import sklearn\n",
    "from sklearn.metrics import confusion_matrix\n",
    "from sklearn.model_selection import train_test_split\n",
    "from sklearn.preprocessing import StandardScaler"
   ]
  },
  {
   "cell_type": "code",
   "execution_count": 123,
   "id": "9b1b1a3e",
   "metadata": {},
   "outputs": [],
   "source": [
    "METRICS = [\n",
    "      keras.metrics.TruePositives(name='tp'),\n",
    "      keras.metrics.FalsePositives(name='fp'),\n",
    "      keras.metrics.TrueNegatives(name='tn'),\n",
    "      keras.metrics.FalseNegatives(name='fn'), \n",
    "      keras.metrics.BinaryAccuracy(name='accuracy'),\n",
    "      keras.metrics.Precision(name='precision'),\n",
    "      keras.metrics.Recall(name='recall'),\n",
    "      keras.metrics.AUC(name='auc'),\n",
    "      keras.metrics.AUC(name='prc', curve='PR'), # precision-recall curve\n",
    "]\n",
    "\n",
    "def make_model(metrics=METRICS, output_bias=None):\n",
    "    if output_bias is not None:\n",
    "        output_bias = tf.keras.initializers.Constant(output_bias)\n",
    "    model = Sequential()\n",
    "    model.add(Embedding(input_dim=5000, output_dim=256, input_length=200))\n",
    "    model.add(LSTM(32))\n",
    "    model.add(Dropout(0.4))\n",
    "    model.add(Dense(1, activation=\"sigmoid\"))\n",
    "\n",
    "    model.compile(\n",
    "      optimizer=keras.optimizers.Adam(learning_rate=1e-3),\n",
    "      loss=keras.losses.BinaryCrossentropy(),\n",
    "      metrics=metrics)\n",
    "\n",
    "    return model"
   ]
  },
  {
   "cell_type": "code",
   "execution_count": 124,
   "id": "9740f075",
   "metadata": {},
   "outputs": [],
   "source": [
    "EPOCHS = 10\n",
    "BATCH_SIZE = 32\n",
    "\n",
    "early_stopping = tf.keras.callbacks.EarlyStopping(\n",
    "    monitor='val_prc', \n",
    "    verbose=1,\n",
    "    patience=10,\n",
    "    mode='max',\n",
    "    restore_best_weights=True)"
   ]
  },
  {
   "cell_type": "code",
   "execution_count": 125,
   "id": "c3119ac0",
   "metadata": {},
   "outputs": [
    {
     "name": "stdout",
     "output_type": "stream",
     "text": [
      "Model: \"sequential_17\"\n",
      "_________________________________________________________________\n",
      " Layer (type)                Output Shape              Param #   \n",
      "=================================================================\n",
      " embedding_17 (Embedding)    (None, 200, 256)          1280000   \n",
      "                                                                 \n",
      " lstm_17 (LSTM)              (None, 32)                36992     \n",
      "                                                                 \n",
      " dropout_17 (Dropout)        (None, 32)                0         \n",
      "                                                                 \n",
      " dense_29 (Dense)            (None, 1)                 33        \n",
      "                                                                 \n",
      "=================================================================\n",
      "Total params: 1,317,025\n",
      "Trainable params: 1,317,025\n",
      "Non-trainable params: 0\n",
      "_________________________________________________________________\n"
     ]
    }
   ],
   "source": [
    "model = make_model()\n",
    "model.summary()"
   ]
  },
  {
   "cell_type": "code",
   "execution_count": 126,
   "id": "2b997410",
   "metadata": {},
   "outputs": [
    {
     "name": "stdout",
     "output_type": "stream",
     "text": [
      "1/1 [==============================] - 0s 455ms/step\n"
     ]
    },
    {
     "data": {
      "text/plain": [
       "array([[0.500353  ],\n",
       "       [0.4993764 ],\n",
       "       [0.49597916],\n",
       "       [0.4977449 ],\n",
       "       [0.50490713],\n",
       "       [0.49996534],\n",
       "       [0.4972143 ],\n",
       "       [0.50359595],\n",
       "       [0.5024029 ],\n",
       "       [0.5010033 ]], dtype=float32)"
      ]
     },
     "execution_count": 126,
     "metadata": {},
     "output_type": "execute_result"
    }
   ],
   "source": [
    "model.predict(X_train[:10])"
   ]
  },
  {
   "cell_type": "code",
   "execution_count": 135,
   "id": "96279e5c",
   "metadata": {},
   "outputs": [
    {
     "name": "stdout",
     "output_type": "stream",
     "text": [
      "Loss: 0.6930\n"
     ]
    }
   ],
   "source": [
    "results = model.evaluate(X_train, y_train, batch_size=BATCH_SIZE, verbose=0)\n",
    "print(\"Loss: {:0.4f}\".format(results[0]))"
   ]
  },
  {
   "cell_type": "code",
   "execution_count": 129,
   "id": "f0b24bb1",
   "metadata": {},
   "outputs": [
    {
     "name": "stdout",
     "output_type": "stream",
     "text": [
      "Examples:\n",
      "    Total: 5\n",
      "    Positive: 1 (20.00% of total)\n",
      "\n"
     ]
    }
   ],
   "source": [
    "neg, pos = np.bincount(label)\n",
    "total = neg + pos\n",
    "print('Examples:\\n    Total: {}\\n    Positive: {} ({:.2f}% of total)\\n'.format(\n",
    "    total, pos, 100 * pos / total))"
   ]
  },
  {
   "cell_type": "code",
   "execution_count": 130,
   "id": "80bd1d84",
   "metadata": {},
   "outputs": [
    {
     "data": {
      "text/plain": [
       "array([-1.38629436])"
      ]
     },
     "execution_count": 130,
     "metadata": {},
     "output_type": "execute_result"
    }
   ],
   "source": [
    "initial_bias = np.log([pos/neg])\n",
    "initial_bias"
   ]
  },
  {
   "cell_type": "code",
   "execution_count": 131,
   "id": "da6ec511",
   "metadata": {},
   "outputs": [
    {
     "name": "stdout",
     "output_type": "stream",
     "text": [
      "1/1 [==============================] - 0s 446ms/step\n"
     ]
    },
    {
     "data": {
      "text/plain": [
       "array([[0.50126165],\n",
       "       [0.50044775],\n",
       "       [0.5020935 ],\n",
       "       [0.49597085],\n",
       "       [0.49823034],\n",
       "       [0.5019263 ],\n",
       "       [0.49402416],\n",
       "       [0.49211815],\n",
       "       [0.5076571 ],\n",
       "       [0.5070256 ]], dtype=float32)"
      ]
     },
     "execution_count": 131,
     "metadata": {},
     "output_type": "execute_result"
    }
   ],
   "source": [
    "model = make_model(output_bias=initial_bias)\n",
    "model.predict(X_train[:10])"
   ]
  },
  {
   "cell_type": "code",
   "execution_count": 133,
   "id": "680dfd07",
   "metadata": {},
   "outputs": [
    {
     "name": "stdout",
     "output_type": "stream",
     "text": [
      "Loss: 0.6930\n"
     ]
    }
   ],
   "source": [
    "results = model.evaluate(X_train, y_train, batch_size=BATCH_SIZE, verbose=0)\n",
    "print(\"Loss: {:0.4f}\".format(results[0]))"
   ]
  },
  {
   "cell_type": "code",
   "execution_count": 136,
   "id": "80eef792",
   "metadata": {},
   "outputs": [],
   "source": [
    "initial_weights = os.path.join(tempfile.mkdtemp(), 'initial_weights')\n",
    "model.save_weights(initial_weights)"
   ]
  },
  {
   "cell_type": "code",
   "execution_count": 137,
   "id": "81e79d24",
   "metadata": {},
   "outputs": [],
   "source": [
    "model = make_model()\n",
    "model.load_weights(initial_weights)\n",
    "model.layers[-1].bias.assign([0.0])\n",
    "zero_bias_history = model.fit(\n",
    "    X_train,\n",
    "    y_train,\n",
    "    batch_size=BATCH_SIZE,\n",
    "    epochs=20,\n",
    "    validation_data=(X_test, y_test), \n",
    "    verbose=0)"
   ]
  },
  {
   "cell_type": "code",
   "execution_count": 139,
   "id": "f7d324a2",
   "metadata": {},
   "outputs": [],
   "source": [
    "model = make_model()\n",
    "model.load_weights(initial_weights)\n",
    "careful_bias_history = model.fit(\n",
    "    X_train,\n",
    "    y_train,\n",
    "    batch_size=BATCH_SIZE,\n",
    "    epochs=20,\n",
    "    validation_data=(X_test, y_test), \n",
    "    verbose=0)"
   ]
  },
  {
   "cell_type": "code",
   "execution_count": 140,
   "id": "db24e065",
   "metadata": {},
   "outputs": [],
   "source": [
    "def plot_loss(history, label, n):\n",
    "    # Use a log scale on y-axis to show the wide range of values.\n",
    "    plt.semilogy(history.epoch, history.history['loss'],\n",
    "               color=colors[n], label='Train ' + label)\n",
    "    plt.semilogy(history.epoch, history.history['val_loss'],\n",
    "               color=colors[n], label='Val ' + label,\n",
    "               linestyle=\"--\")\n",
    "    plt.xlabel('Epoch')\n",
    "    plt.ylabel('Loss')"
   ]
  },
  {
   "cell_type": "code",
   "execution_count": 146,
   "id": "1af4e88c",
   "metadata": {},
   "outputs": [
    {
     "data": {
      "image/png": "[encoded data removed]",
      "text/plain": [
       "<Figure size 1200x1000 with 1 Axes>"
      ]
     },
     "metadata": {},
     "output_type": "display_data"
    }
   ],
   "source": [
    "mpl.rcParams['figure.figsize'] = (12, 10)\n",
    "colors = plt.rcParams['axes.prop_cycle'].by_key()['color']\n",
    "plot_loss(zero_bias_history, \"Zero Bias\", 0)\n",
    "plot_loss(careful_bias_history, \"Careful Bias\", 1)"
   ]
  },
  {
   "cell_type": "code",
   "execution_count": 149,
   "id": "17653725",
   "metadata": {},
   "outputs": [
    {
     "name": "stdout",
     "output_type": "stream",
     "text": [
      "Epoch 1/10\n",
      "14/14 [==============================] - 7s 248ms/step - loss: 0.6769 - tp: 17.0000 - fp: 34.0000 - tn: 340.0000 - fn: 137.0000 - accuracy: 0.6761 - precision: 0.3333 - recall: 0.1104 - auc: 0.5250 - prc: 0.3409 - val_loss: 0.6363 - val_tp: 0.0000e+00 - val_fp: 0.0000e+00 - val_tn: 76.0000 - val_fn: 30.0000 - val_accuracy: 0.7170 - val_precision: 0.0000e+00 - val_recall: 0.0000e+00 - val_auc: 0.5796 - val_prc: 0.3395\n",
      "Epoch 2/10\n",
      "14/14 [==============================] - 2s 140ms/step - loss: 0.5914 - tp: 0.0000e+00 - fp: 0.0000e+00 - tn: 298.0000 - fn: 124.0000 - accuracy: 0.7062 - precision: 0.0000e+00 - recall: 0.0000e+00 - auc: 0.6461 - prc: 0.4879 - val_loss: 0.5793 - val_tp: 0.0000e+00 - val_fp: 0.0000e+00 - val_tn: 76.0000 - val_fn: 30.0000 - val_accuracy: 0.7170 - val_precision: 0.0000e+00 - val_recall: 0.0000e+00 - val_auc: 0.6397 - val_prc: 0.4394\n",
      "Epoch 3/10\n",
      "14/14 [==============================] - 2s 147ms/step - loss: 0.4772 - tp: 6.0000 - fp: 0.0000e+00 - tn: 298.0000 - fn: 118.0000 - accuracy: 0.7204 - precision: 1.0000 - recall: 0.0484 - auc: 0.8980 - prc: 0.8196 - val_loss: 0.5853 - val_tp: 0.0000e+00 - val_fp: 0.0000e+00 - val_tn: 76.0000 - val_fn: 30.0000 - val_accuracy: 0.7170 - val_precision: 0.0000e+00 - val_recall: 0.0000e+00 - val_auc: 0.6485 - val_prc: 0.4709\n",
      "Epoch 4/10\n",
      "14/14 [==============================] - 2s 147ms/step - loss: 0.3066 - tp: 73.0000 - fp: 0.0000e+00 - tn: 298.0000 - fn: 51.0000 - accuracy: 0.8791 - precision: 1.0000 - recall: 0.5887 - auc: 0.9834 - prc: 0.9696 - val_loss: 0.6971 - val_tp: 3.0000 - val_fp: 0.0000e+00 - val_tn: 76.0000 - val_fn: 27.0000 - val_accuracy: 0.7453 - val_precision: 1.0000 - val_recall: 0.1000 - val_auc: 0.6524 - val_prc: 0.4713\n",
      "Epoch 5/10\n",
      "14/14 [==============================] - 2s 149ms/step - loss: 0.1555 - tp: 116.0000 - fp: 0.0000e+00 - tn: 298.0000 - fn: 8.0000 - accuracy: 0.9810 - precision: 1.0000 - recall: 0.9355 - auc: 0.9997 - prc: 0.9994 - val_loss: 0.7589 - val_tp: 7.0000 - val_fp: 12.0000 - val_tn: 64.0000 - val_fn: 23.0000 - val_accuracy: 0.6698 - val_precision: 0.3684 - val_recall: 0.2333 - val_auc: 0.6248 - val_prc: 0.3955\n",
      "Epoch 6/10\n",
      "14/14 [==============================] - 2s 144ms/step - loss: 0.0964 - tp: 122.0000 - fp: 0.0000e+00 - tn: 298.0000 - fn: 2.0000 - accuracy: 0.9953 - precision: 1.0000 - recall: 0.9839 - auc: 0.9998 - prc: 0.9995 - val_loss: 0.8430 - val_tp: 11.0000 - val_fp: 18.0000 - val_tn: 58.0000 - val_fn: 19.0000 - val_accuracy: 0.6509 - val_precision: 0.3793 - val_recall: 0.3667 - val_auc: 0.5930 - val_prc: 0.3551\n",
      "Epoch 7/10\n",
      "14/14 [==============================] - 2s 150ms/step - loss: 0.0725 - tp: 123.0000 - fp: 1.0000 - tn: 297.0000 - fn: 1.0000 - accuracy: 0.9953 - precision: 0.9919 - recall: 0.9919 - auc: 0.9999 - prc: 0.9997 - val_loss: 0.9622 - val_tp: 7.0000 - val_fp: 16.0000 - val_tn: 60.0000 - val_fn: 23.0000 - val_accuracy: 0.6321 - val_precision: 0.3043 - val_recall: 0.2333 - val_auc: 0.5827 - val_prc: 0.3801\n",
      "Epoch 8/10\n",
      "14/14 [==============================] - 2s 141ms/step - loss: 0.0425 - tp: 124.0000 - fp: 0.0000e+00 - tn: 298.0000 - fn: 0.0000e+00 - accuracy: 1.0000 - precision: 1.0000 - recall: 1.0000 - auc: 1.0000 - prc: 1.0000 - val_loss: 1.0141 - val_tp: 8.0000 - val_fp: 15.0000 - val_tn: 61.0000 - val_fn: 22.0000 - val_accuracy: 0.6509 - val_precision: 0.3478 - val_recall: 0.2667 - val_auc: 0.5923 - val_prc: 0.3767\n",
      "Epoch 9/10\n",
      "14/14 [==============================] - 2s 157ms/step - loss: 0.0290 - tp: 124.0000 - fp: 0.0000e+00 - tn: 298.0000 - fn: 0.0000e+00 - accuracy: 1.0000 - precision: 1.0000 - recall: 1.0000 - auc: 1.0000 - prc: 1.0000 - val_loss: 1.2265 - val_tp: 7.0000 - val_fp: 12.0000 - val_tn: 64.0000 - val_fn: 23.0000 - val_accuracy: 0.6698 - val_precision: 0.3684 - val_recall: 0.2333 - val_auc: 0.5836 - val_prc: 0.4287\n",
      "Epoch 10/10\n",
      "14/14 [==============================] - 2s 146ms/step - loss: 0.0227 - tp: 124.0000 - fp: 0.0000e+00 - tn: 298.0000 - fn: 0.0000e+00 - accuracy: 1.0000 - precision: 1.0000 - recall: 1.0000 - auc: 1.0000 - prc: 1.0000 - val_loss: 1.2143 - val_tp: 9.0000 - val_fp: 12.0000 - val_tn: 64.0000 - val_fn: 21.0000 - val_accuracy: 0.6887 - val_precision: 0.4286 - val_recall: 0.3000 - val_auc: 0.5831 - val_prc: 0.3835\n"
     ]
    }
   ],
   "source": [
    "model = make_model()\n",
    "model.load_weights(initial_weights)\n",
    "baseline_history = model.fit(\n",
    "    X_train,\n",
    "    y_train,\n",
    "    batch_size=BATCH_SIZE,\n",
    "    epochs=EPOCHS,\n",
    "    callbacks=[early_stopping],\n",
    "    validation_data=(X_test, y_test))"
   ]
  },
  {
   "cell_type": "code",
   "execution_count": 150,
   "id": "93b5e677",
   "metadata": {},
   "outputs": [
    {
     "name": "stdout",
     "output_type": "stream",
     "text": [
      "14/14 [==============================] - 1s 37ms/step\n",
      "4/4 [==============================] - 0s 34ms/step\n"
     ]
    }
   ],
   "source": [
    "train_predictions_baseline = model.predict(X_train, batch_size=BATCH_SIZE)\n",
    "test_predictions_baseline = model.predict(X_test, batch_size=BATCH_SIZE)"
   ]
  },
  {
   "cell_type": "code",
   "execution_count": 151,
   "id": "b6e8eaf2",
   "metadata": {},
   "outputs": [],
   "source": [
    "def plot_cm(labels, predictions, p=0.5):\n",
    "    cm = confusion_matrix(labels, predictions > p)\n",
    "    plt.figure(figsize=(5,5))\n",
    "    sns.heatmap(cm, annot=True, fmt=\"d\")\n",
    "    plt.title('Confusion matrix @{:.2f}'.format(p))\n",
    "    plt.ylabel('Actual label')\n",
    "    plt.xlabel('Predicted label')\n",
    "\n",
    "    print('Legitimate Transactions Detected (True Negatives): ', cm[0][0])\n",
    "    print('Legitimate Transactions Incorrectly Detected (False Positives): ', cm[0][1])\n",
    "    print('Fraudulent Transactions Missed (False Negatives): ', cm[1][0])\n",
    "    print('Fraudulent Transactions Detected (True Positives): ', cm[1][1])\n",
    "    print('Total Fraudulent Transactions: ', np.sum(cm[1]))"
   ]
  },
  {
   "cell_type": "code",
   "execution_count": 154,
   "id": "37c458df",
   "metadata": {},
   "outputs": [
    {
     "name": "stdout",
     "output_type": "stream",
     "text": [
      "loss :  1.214333176612854\n",
      "tp :  9.0\n",
      "fp :  12.0\n",
      "tn :  64.0\n",
      "fn :  21.0\n",
      "accuracy :  0.6886792182922363\n",
      "precision :  0.4285714328289032\n",
      "recall :  0.30000001192092896\n",
      "auc :  0.5831140279769897\n",
      "prc :  0.38351893424987793\n",
      "\n",
      "Legitimate Transactions Detected (True Negatives):  64\n",
      "Legitimate Transactions Incorrectly Detected (False Positives):  12\n",
      "Fraudulent Transactions Missed (False Negatives):  21\n",
      "Fraudulent Transactions Detected (True Positives):  9\n",
      "Total Fraudulent Transactions:  30\n"
     ]
    },
    {
     "data": {
      "image/png": "[encoded data removed]",
      "text/plain": [
       "<Figure size 500x500 with 2 Axes>"
      ]
     },
     "metadata": {},
     "output_type": "display_data"
    }
   ],
   "source": [
    "baseline_results = model.evaluate(X_test, y_test,\n",
    "                                  batch_size=BATCH_SIZE, verbose=0)\n",
    "for name, value in zip(model.metrics_names, baseline_results):\n",
    "    print(name, ': ', value)\n",
    "print()\n",
    "\n",
    "plot_cm(y_test, test_predictions_baseline)"
   ]
  },
  {
   "cell_type": "code",
   "execution_count": 176,
   "id": "c3a2d9c3",
   "metadata": {},
   "outputs": [
    {
     "name": "stdout",
     "output_type": "stream",
     "text": [
      "Weight for class 0: 0.62\n",
      "Weight for class 1: 2.50\n"
     ]
    }
   ],
   "source": [
    "# Scaling by total/2 helps keep the loss to a similar magnitude.\n",
    "# The sum of the weights of all examples stays the same.\n",
    "weight_for_0 = (1 / neg) * (total / 2.0)\n",
    "weight_for_1 = (1 / pos) * (total / 2.0)\n",
    "\n",
    "class_weight = {0: weight_for_0, 1: weight_for_1+1.5}\n",
    "\n",
    "print('Weight for class 0: {:.2f}'.format(weight_for_0))\n",
    "print('Weight for class 1: {:.2f}'.format(weight_for_1))"
   ]
  },
  {
   "cell_type": "code",
   "execution_count": 177,
   "id": "ae472f5e",
   "metadata": {},
   "outputs": [
    {
     "name": "stdout",
     "output_type": "stream",
     "text": [
      "Epoch 1/10\n",
      "14/14 [==============================] - 6s 216ms/step - loss: 1.0995 - tp: 115.0000 - fp: 269.0000 - tn: 105.0000 - fn: 39.0000 - accuracy: 0.4167 - precision: 0.2995 - recall: 0.7468 - auc: 0.5302 - prc: 0.3229 - val_loss: 0.7307 - val_tp: 30.0000 - val_fp: 76.0000 - val_tn: 0.0000e+00 - val_fn: 0.0000e+00 - val_accuracy: 0.2830 - val_precision: 0.2830 - val_recall: 1.0000 - val_auc: 0.5399 - val_prc: 0.3210\n",
      "Epoch 2/10\n",
      "14/14 [==============================] - 2s 143ms/step - loss: 0.9705 - tp: 124.0000 - fp: 297.0000 - tn: 1.0000 - fn: 0.0000e+00 - accuracy: 0.2962 - precision: 0.2945 - recall: 1.0000 - auc: 0.7037 - prc: 0.4653 - val_loss: 0.9533 - val_tp: 30.0000 - val_fp: 76.0000 - val_tn: 0.0000e+00 - val_fn: 0.0000e+00 - val_accuracy: 0.2830 - val_precision: 0.2830 - val_recall: 1.0000 - val_auc: 0.6002 - val_prc: 0.3752\n",
      "Epoch 3/10\n",
      "14/14 [==============================] - 2s 151ms/step - loss: 0.7773 - tp: 124.0000 - fp: 268.0000 - tn: 30.0000 - fn: 0.0000e+00 - accuracy: 0.3649 - precision: 0.3163 - recall: 1.0000 - auc: 0.8235 - prc: 0.6243 - val_loss: 0.8307 - val_tp: 27.0000 - val_fp: 66.0000 - val_tn: 10.0000 - val_fn: 3.0000 - val_accuracy: 0.3491 - val_precision: 0.2903 - val_recall: 0.9000 - val_auc: 0.6195 - val_prc: 0.4467\n",
      "Epoch 4/10\n",
      "14/14 [==============================] - 2s 149ms/step - loss: 0.5820 - tp: 124.0000 - fp: 166.0000 - tn: 132.0000 - fn: 0.0000e+00 - accuracy: 0.6066 - precision: 0.4276 - recall: 1.0000 - auc: 0.9462 - prc: 0.8638 - val_loss: 0.8206 - val_tp: 22.0000 - val_fp: 42.0000 - val_tn: 34.0000 - val_fn: 8.0000 - val_accuracy: 0.5283 - val_precision: 0.3438 - val_recall: 0.7333 - val_auc: 0.6434 - val_prc: 0.4820\n",
      "Epoch 5/10\n",
      "14/14 [==============================] - 2s 148ms/step - loss: 0.3180 - tp: 124.0000 - fp: 42.0000 - tn: 256.0000 - fn: 0.0000e+00 - accuracy: 0.9005 - precision: 0.7470 - recall: 1.0000 - auc: 0.9929 - prc: 0.9808 - val_loss: 0.8413 - val_tp: 13.0000 - val_fp: 21.0000 - val_tn: 55.0000 - val_fn: 17.0000 - val_accuracy: 0.6415 - val_precision: 0.3824 - val_recall: 0.4333 - val_auc: 0.6031 - val_prc: 0.3651\n",
      "Epoch 6/10\n",
      "14/14 [==============================] - 2s 154ms/step - loss: 0.1603 - tp: 124.0000 - fp: 7.0000 - tn: 291.0000 - fn: 0.0000e+00 - accuracy: 0.9834 - precision: 0.9466 - recall: 1.0000 - auc: 0.9985 - prc: 0.9951 - val_loss: 0.9170 - val_tp: 8.0000 - val_fp: 16.0000 - val_tn: 60.0000 - val_fn: 22.0000 - val_accuracy: 0.6415 - val_precision: 0.3333 - val_recall: 0.2667 - val_auc: 0.5158 - val_prc: 0.2943\n",
      "Epoch 7/10\n",
      "14/14 [==============================] - 2s 147ms/step - loss: 0.1133 - tp: 124.0000 - fp: 2.0000 - tn: 296.0000 - fn: 0.0000e+00 - accuracy: 0.9953 - precision: 0.9841 - recall: 1.0000 - auc: 0.9972 - prc: 0.9845 - val_loss: 0.8304 - val_tp: 9.0000 - val_fp: 15.0000 - val_tn: 61.0000 - val_fn: 21.0000 - val_accuracy: 0.6604 - val_precision: 0.3750 - val_recall: 0.3000 - val_auc: 0.5496 - val_prc: 0.3299\n",
      "Epoch 8/10\n",
      "14/14 [==============================] - 2s 155ms/step - loss: 0.0796 - tp: 124.0000 - fp: 3.0000 - tn: 295.0000 - fn: 0.0000e+00 - accuracy: 0.9929 - precision: 0.9764 - recall: 1.0000 - auc: 0.9988 - prc: 0.9963 - val_loss: 0.7577 - val_tp: 7.0000 - val_fp: 9.0000 - val_tn: 67.0000 - val_fn: 23.0000 - val_accuracy: 0.6981 - val_precision: 0.4375 - val_recall: 0.2333 - val_auc: 0.5715 - val_prc: 0.3659\n",
      "Epoch 9/10\n",
      "14/14 [==============================] - 2s 150ms/step - loss: 0.0727 - tp: 124.0000 - fp: 1.0000 - tn: 297.0000 - fn: 0.0000e+00 - accuracy: 0.9976 - precision: 0.9920 - recall: 1.0000 - auc: 0.9992 - prc: 0.9979 - val_loss: 0.8082 - val_tp: 11.0000 - val_fp: 13.0000 - val_tn: 63.0000 - val_fn: 19.0000 - val_accuracy: 0.6981 - val_precision: 0.4583 - val_recall: 0.3667 - val_auc: 0.5879 - val_prc: 0.3849\n",
      "Epoch 10/10\n",
      "14/14 [==============================] - 2s 171ms/step - loss: 0.0444 - tp: 124.0000 - fp: 2.0000 - tn: 296.0000 - fn: 0.0000e+00 - accuracy: 0.9953 - precision: 0.9841 - recall: 1.0000 - auc: 1.0000 - prc: 1.0000 - val_loss: 0.8693 - val_tp: 11.0000 - val_fp: 11.0000 - val_tn: 65.0000 - val_fn: 19.0000 - val_accuracy: 0.7170 - val_precision: 0.5000 - val_recall: 0.3667 - val_auc: 0.5919 - val_prc: 0.3802\n"
     ]
    }
   ],
   "source": [
    "weighted_model = make_model()\n",
    "weighted_model.load_weights(initial_weights)\n",
    "\n",
    "weighted_history = weighted_model.fit(\n",
    "    X_train,\n",
    "    y_train,\n",
    "    batch_size=BATCH_SIZE,\n",
    "    epochs=EPOCHS,\n",
    "    callbacks=[early_stopping],\n",
    "    validation_data=(X_test, y_test),\n",
    "    # The class weights go here\n",
    "    class_weight=class_weight)"
   ]
  },
  {
   "cell_type": "code",
   "execution_count": 178,
   "id": "02e9f317",
   "metadata": {},
   "outputs": [
    {
     "name": "stdout",
     "output_type": "stream",
     "text": [
      "14/14 [==============================] - 1s 42ms/step\n",
      "4/4 [==============================] - 0s 37ms/step\n"
     ]
    }
   ],
   "source": [
    "train_predictions_weighted = weighted_model.predict(X_train, batch_size=BATCH_SIZE)\n",
    "test_predictions_weighted = weighted_model.predict(X_test, batch_size=BATCH_SIZE)"
   ]
  },
  {
   "cell_type": "code",
   "execution_count": 179,
   "id": "05a770ff",
   "metadata": {},
   "outputs": [
    {
     "name": "stdout",
     "output_type": "stream",
     "text": [
      "loss :  0.8692855834960938\n",
      "tp :  11.0\n",
      "fp :  11.0\n",
      "tn :  65.0\n",
      "fn :  19.0\n",
      "accuracy :  0.7169811129570007\n",
      "precision :  0.5\n",
      "recall :  0.36666667461395264\n",
      "auc :  0.5918859839439392\n",
      "prc :  0.3801795244216919\n",
      "\n",
      "Legitimate Transactions Detected (True Negatives):  65\n",
      "Legitimate Transactions Incorrectly Detected (False Positives):  11\n",
      "Fraudulent Transactions Missed (False Negatives):  19\n",
      "Fraudulent Transactions Detected (True Positives):  11\n",
      "Total Fraudulent Transactions:  30\n"
     ]
    },
    {
     "data": {
      "image/png": "[encoded data removed]",
      "text/plain": [
       "<Figure size 500x500 with 2 Axes>"
      ]
     },
     "metadata": {},
     "output_type": "display_data"
    }
   ],
   "source": [
    "weighted_results = weighted_model.evaluate(X_test, y_test,\n",
    "                                           batch_size=BATCH_SIZE, verbose=0)\n",
    "for name, value in zip(weighted_model.metrics_names, weighted_results):\n",
    "  print(name, ': ', value)\n",
    "print()\n",
    "\n",
    "plot_cm(y_test, test_predictions_weighted)"
   ]
  },
  {
   "cell_type": "code",
   "execution_count": null,
   "id": "e1a10977",
   "metadata": {},
   "outputs": [],
   "source": []
  }
 ],
 "metadata": {
  "kernelspec": {
   "display_name": "Python 3 (ipykernel)",
   "language": "python",
   "name": "python3"
  },
  "language_info": {
   "codemirror_mode": {
    "name": "ipython",
    "version": 3
   },
   "file_extension": ".py",
   "mimetype": "text/x-python",
   "name": "python",
   "nbconvert_exporter": "python",
   "pygments_lexer": "ipython3",
   "version": "3.9.13"
  }
 },
 "nbformat": 4,
 "nbformat_minor": 5
}
